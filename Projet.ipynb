{
 "cells": [
  {
   "cell_type": "markdown",
   "metadata": {},
   "source": [
    "# Projet 3i026 "
   ]
  },
  {
   "cell_type": "markdown",
   "metadata": {},
   "source": [
    "## Intro"
   ]
  },
  {
   "cell_type": "markdown",
   "metadata": {},
   "source": [
    "#### importation des bibliothèques "
   ]
  },
  {
   "cell_type": "code",
   "execution_count": 1,
   "metadata": {},
   "outputs": [],
   "source": [
    "import numpy as np\n",
    "import pandas as pd\n",
    "import matplotlib.pyplot as plt\n",
    "%matplotlib inline\n",
    "import pickle as pkl \n",
    "\n",
    "# La ligne suivante permet de préciser le chemin d'accès à la librairie iads\n",
    "import sys\n",
    "sys.path.append('../')\n",
    "\n",
    "# Importation de la librairie iads\n",
    "import iads as iads\n",
    "\n",
    "# importation de LabeledSet\n",
    "from iads import LabeledSet as ls\n",
    "\n",
    "# importation de Classifiers\n",
    "from iads import Classifiers as cl\n",
    "\n",
    "# importation de utils\n",
    "from iads import utils as ut\n",
    "import math\n"
   ]
  },
  {
   "cell_type": "markdown",
   "metadata": {},
   "source": [
    "## Chargement des données et indexation"
   ]
  },
  {
   "cell_type": "markdown",
   "metadata": {},
   "source": [
    "**Mise en Forme des Données**\n"
   ]
  },
  {
   "cell_type": "code",
   "execution_count": 2,
   "metadata": {},
   "outputs": [],
   "source": [
    "# Chargement des données MovieLens\n",
    "fname_links =\"data/ml-20m/links.csv\"\n",
    "links = pd.read_csv(fname_links, encoding='utf8')\n",
    "\n",
    "fname =\"data/ml-20m/movies.csv\"\n",
    "movies = pd.read_csv(fname, encoding='utf8')\n",
    "\n",
    "fname =\"data/ml-20m/tags.csv\"\n",
    "tags = pd.read_csv(fname, encoding='utf8')\n",
    "\n",
    "fname =\"data/ml-20m/genome-tags.csv\"\n",
    "num_tags = pd.read_csv(fname, encoding='utf8')\n",
    "\n",
    "fname =\"data/ml-20m/ratings.csv\"\n",
    "ratings = pd.read_csv(fname, encoding='utf8')"
   ]
  },
  {
   "cell_type": "code",
   "execution_count": 3,
   "metadata": {},
   "outputs": [],
   "source": [
    "# Chargement des données complémentaires : Data sets\n",
    "fname = \"data/act_v2.pkl\"\n",
    "acteurs = pkl.load(open(fname, \"rb\"))\n",
    "\n",
    "fname = \"data/crew_v2.pkl\"\n",
    "equipe= pkl.load(open(fname, \"rb\"))\n",
    "\n",
    "fname = \"data/film_v2.pkl\"\n",
    "films= pkl.load(open(fname, \"rb\"))\n"
   ]
  },
  {
   "cell_type": "markdown",
   "metadata": {},
   "source": [
    "#### Indexation des données :"
   ]
  },
  {
   "cell_type": "markdown",
   "metadata": {},
   "source": [
    "***1-Les acteurs :***"
   ]
  },
  {
   "cell_type": "code",
   "execution_count": 4,
   "metadata": {},
   "outputs": [],
   "source": [
    "# Faire un dictionnaire avec tous les acteurs (acteur => indice)\n",
    "# + un dictionnaire inversé (indice => acteur)\n",
    "actors = dict()\n",
    "actors_inv = dict()\n",
    "for lista in acteurs:\n",
    "    for a in lista:\n",
    "        # affecte une valeur à une clé si la clé n'est pas utilisée\n",
    "        res = actors.setdefault(a['name'], len(actors))\n",
    "        if res == len(actors)-1:\n",
    "            actors_inv[len(actors)-1] = a['name']\n",
    "            \n"
   ]
  },
  {
   "cell_type": "markdown",
   "metadata": {},
   "source": [
    "Actors: une liste dde listes des acteurs dans un film :\n",
    "[{'name': 'Christian Ulmen', 'id': 675, 'gender': 0, 'cast_id': 6, 'credit_id': '52fe49cfc3a368484e140fed', 'character': 'Jonas', 'order': 0, 'profile_path': '/8kVG8RGO47mSRZ1ut0rxzbmFkKo.jpg'}]"
   ]
  },
  {
   "cell_type": "code",
   "execution_count": 5,
   "metadata": {},
   "outputs": [
    {
     "data": {
      "text/plain": [
       "{'adult': False,\n",
       " 'backdrop_path': '/dji4Fm0gCDVb9DQQMRvAI8YNnTz.jpg',\n",
       " 'genre_ids': [16, 35, 10751],\n",
       " 'id': 862,\n",
       " 'original_language': 'en',\n",
       " 'original_title': 'Toy Story',\n",
       " 'overview': \"Led by Woody, Andy's toys live happily in his room until Andy's birthday brings Buzz Lightyear onto the scene. Afraid of losing his place in Andy's heart, Woody plots against Buzz. But when circumstances separate Buzz and Woody from their owner, the duo eventually learns to put aside their differences.\",\n",
       " 'popularity': 22.773,\n",
       " 'poster_path': '/rhIRbceoE9lR4veEXuwCC2wARtG.jpg',\n",
       " 'release_date': '1995-10-30',\n",
       " 'title': 'Toy Story',\n",
       " 'video': False,\n",
       " 'vote_average': 7.9,\n",
       " 'vote_count': 9550}"
      ]
     },
     "execution_count": 5,
     "metadata": {},
     "output_type": "execute_result"
    }
   ],
   "source": [
    "films[0]"
   ]
  },
  {
   "cell_type": "markdown",
   "metadata": {},
   "source": [
    "***2- Les films***"
   ]
  },
  {
   "cell_type": "markdown",
   "metadata": {},
   "source": [
    "Indexer les films :"
   ]
  },
  {
   "cell_type": "code",
   "execution_count": 6,
   "metadata": {},
   "outputs": [],
   "source": [
    "films_index = dict() # title->val\n",
    "films_inv_index = dict() #val->title\n",
    "for f in films:\n",
    "    # affecte une valeur à une clé si la clé n'est pas utilisée\n",
    "    res =films_index.setdefault(f['title'], len(films_index))\n",
    "    if res == len(films_index)-1:\n",
    "        films_inv_index[len(films_index)-1] = f['title']  \n"
   ]
  },
  {
   "cell_type": "markdown",
   "metadata": {},
   "source": [
    " Récupération des listes de catégories et acteurs d'un film :' "
   ]
  },
  {
   "cell_type": "code",
   "execution_count": 7,
   "metadata": {},
   "outputs": [],
   "source": [
    "film_actors= dict()#pour chaque indice de film (dans films) la liste des acteurs\n",
    "actors_film= dict()\n",
    "\n",
    "for i in range (len(films)) :\n",
    "    l=[]\n",
    "    f=films[i]\n",
    "    indice=films_index[f['title']]\n",
    "    for a in acteurs[i]:\n",
    "        if(not(a['name'] in actors_film.keys())):\n",
    "            actors_film[a['name']]=[]\n",
    "        actors_film[a['name']].append(indice)    \n",
    "        l.append(actors[a['name']])\n",
    "    film_actors[indice]=l  #pour chaque indice de film on recupére ses acteurs"
   ]
  },
  {
   "cell_type": "markdown",
   "metadata": {},
   "source": [
    "***3- Catégories :***"
   ]
  },
  {
   "cell_type": "markdown",
   "metadata": {},
   "source": [
    "3-1 Elimination des films : "
   ]
  },
  {
   "cell_type": "code",
   "execution_count": 8,
   "metadata": {},
   "outputs": [],
   "source": [
    "movies_reduit=[]\n",
    "i=0\n",
    "for t in movies.itertuples() :\n",
    "    d=t._asdict()\n",
    "    m=d.get('title')\n",
    "    s=(m.split('('))[0].strip(\"\\\"\").strip()\n",
    "    if s in films_index.keys():\n",
    "        movies_reduit.append(t)\n",
    "    i+=1\n",
    "    \n",
    "\n",
    "data=(pd.DataFrame(movies_reduit)).drop(columns=\"Index\")\n",
    "movies_reduit=data"
   ]
  },
  {
   "cell_type": "code",
   "execution_count": 9,
   "metadata": {},
   "outputs": [
    {
     "name": "stdout",
     "output_type": "stream",
     "text": [
      "   movieId                               title  \\\n",
      "0        1                    Toy Story (1995)   \n",
      "1        2                      Jumanji (1995)   \n",
      "2        3             Grumpier Old Men (1995)   \n",
      "3        4            Waiting to Exhale (1995)   \n",
      "4        5  Father of the Bride Part II (1995)   \n",
      "\n",
      "                                        genres  \n",
      "0  Adventure|Animation|Children|Comedy|Fantasy  \n",
      "1                   Adventure|Children|Fantasy  \n",
      "2                               Comedy|Romance  \n",
      "3                         Comedy|Drama|Romance  \n",
      "4                                       Comedy  \n"
     ]
    }
   ],
   "source": [
    "print(movies_reduit.head(5))"
   ]
  },
  {
   "cell_type": "markdown",
   "metadata": {},
   "source": [
    "Indexation des movies_reduit avec comme cle l'indice de films "
   ]
  },
  {
   "cell_type": "code",
   "execution_count": 10,
   "metadata": {},
   "outputs": [],
   "source": [
    "moviesReduit_index = dict() # title->val\n",
    "moviesReduit_inv_index = dict() #val->title,id dans la table movies\n",
    "moviesReduit_correspendance=dict() #id dans la table movies->id dans la table films, titre \n",
    "for f in movies_reduit.itertuples():\n",
    "    # affecte une valeur à une clé si la clé n'est pas utilisée\n",
    "    \n",
    "    d=f._asdict()\n",
    "    m=d.get('title')\n",
    "    title=(m.split('('))[0].strip(\"\\\"\").strip()\n",
    "    indice= films_index[title] #recupere l'indice dans films\n",
    "    moviesReduit_index[title]= indice \n",
    "    moviesReduit_inv_index[indice]= [title,d.get('movieId')]\n",
    "    moviesReduit_correspendance[d.get('movieId')]=[indice ,title]"
   ]
  },
  {
   "cell_type": "code",
   "execution_count": 11,
   "metadata": {},
   "outputs": [
    {
     "name": "stdout",
     "output_type": "stream",
     "text": [
      "nombre de films de Tom Hanks : 57\n"
     ]
    }
   ],
   "source": [
    "cpt=0\n",
    "for i in films_index.values():\n",
    "    for a in acteurs[i]:\n",
    "        if(a['name']== \"Tom Hanks\"):\n",
    "            cpt+=1\n",
    "            break\n",
    "print(\"nombre de films de Tom Hanks :\",cpt)\n"
   ]
  },
  {
   "cell_type": "markdown",
   "metadata": {},
   "source": [
    "-Indexation des categories"
   ]
  },
  {
   "cell_type": "code",
   "execution_count": 12,
   "metadata": {},
   "outputs": [],
   "source": [
    "categorie_index={}\n",
    "categorie_inv_index={}\n",
    "for i in range(len(movies_reduit)):\n",
    "    cat_name=(movies_reduit['genres'][i]).split('|')\n",
    "    for name in  cat_name:\n",
    "        res =categorie_index.setdefault(name, len(categorie_index))\n",
    "        if res == len(categorie_index)-1:\n",
    "            categorie_inv_index[len(categorie_index)-1] = name "
   ]
  },
  {
   "cell_type": "code",
   "execution_count": 13,
   "metadata": {},
   "outputs": [
    {
     "name": "stdout",
     "output_type": "stream",
     "text": [
      "{'Adventure': 0, 'Animation': 1, 'Children': 2, 'Comedy': 3, 'Fantasy': 4, 'Romance': 5, 'Drama': 6, 'Action': 7, 'Crime': 8, 'Thriller': 9, 'Horror': 10, 'Mystery': 11, 'Sci-Fi': 12, 'IMAX': 13, 'Documentary': 14, 'War': 15, 'Musical': 16, 'Western': 17, 'Film-Noir': 18, '(no genres listed)': 19}\n",
      "{0: 'Adventure', 1: 'Animation', 2: 'Children', 3: 'Comedy', 4: 'Fantasy', 5: 'Romance', 6: 'Drama', 7: 'Action', 8: 'Crime', 9: 'Thriller', 10: 'Horror', 11: 'Mystery', 12: 'Sci-Fi', 13: 'IMAX', 14: 'Documentary', 15: 'War', 16: 'Musical', 17: 'Western', 18: 'Film-Noir', 19: '(no genres listed)'}\n",
      "20\n"
     ]
    }
   ],
   "source": [
    "print(categorie_index)\n",
    "print(categorie_inv_index)\n",
    "print(len(categorie_index))"
   ]
  },
  {
   "cell_type": "markdown",
   "metadata": {},
   "source": [
    "Recuperer les catégories (leurs indexs) des films"
   ]
  },
  {
   "cell_type": "code",
   "execution_count": 14,
   "metadata": {},
   "outputs": [],
   "source": [
    "film_categories= dict()#pour chaque indice de film (dans index) on a les id des catégories\n",
    "\n",
    "for t in movies_reduit.itertuples() :\n",
    "    cat_id=[]\n",
    "    d=t._asdict()\n",
    "    m=d.get('title')\n",
    "    title=(m.split('('))[0].strip(\"\\\"\").strip()\n",
    "    indice=films_index[title]\n",
    "    cat=d.get('genres').split('|')\n",
    "    for c in cat :\n",
    "        cat_id.append(categorie_index[c])\n",
    "    film_categories[indice]=cat_id"
   ]
  },
  {
   "cell_type": "markdown",
   "metadata": {},
   "source": [
    "Preparation d'un LabelSeet pour le premier apprentissage "
   ]
  },
  {
   "cell_type": "code",
   "execution_count": 15,
   "metadata": {},
   "outputs": [],
   "source": [
    "dim = len(categorie_index) \n",
    "ratingPredic_base = ls.LabeledSet(dim + 2) \n",
    "\n",
    "for i in moviesReduit_inv_index.keys() :\n",
    "    cat =[]\n",
    "    m=films[i]\n",
    "    X=[]\n",
    "    if('vote_count' in m.keys()) :\n",
    "        X.append(m['vote_count'])\n",
    "    else:\n",
    "        X.append(0)\n",
    "    if('popularity' in m.keys()):\n",
    "        X.append(m['popularity'])\n",
    "    else:\n",
    "        X.append(0)\n",
    "    cat=film_categories[i]\n",
    "    for j in range(dim) :\n",
    "        if(j in cat):\n",
    "            X.append(1)\n",
    "        else:\n",
    "            X.append(0)\n",
    "    ratingPredic_base.addExample(X,m['vote_average'])\n",
    "\n",
    "    "
   ]
  },
  {
   "cell_type": "code",
   "execution_count": 16,
   "metadata": {},
   "outputs": [],
   "source": [
    "def affiche_base(LS):\n",
    "    \"\"\" LabeledSet\n",
    "        affiche le contenu de LS\n",
    "    \"\"\"\n",
    "    for i in range(0,LS.size()):\n",
    "        print(\"Exemple \"+str(i))\n",
    "        print(\"\\tdescription : \",LS.getX(i))\n",
    "        print(\"\\tlabel : \",LS.getY(i))\n",
    "    return\n",
    "\n"
   ]
  },
  {
   "cell_type": "markdown",
   "metadata": {},
   "source": [
    "## Fonctions auxiliares : "
   ]
  },
  {
   "cell_type": "code",
   "execution_count": 17,
   "metadata": {},
   "outputs": [],
   "source": [
    "def split(pourcentage,data_set): #pourcentage de train\n",
    "    taille=int(pourcentage*data_set.size()/100)\n",
    "    train_set=ls.LabeledSet(data_set.input_dimension)\n",
    "    test_set=ls.LabeledSet(data_set.input_dimension)\n",
    "    for i in range(taille):\n",
    "        train_set.addExample(data_set.getX(i),data_set.getY(i))\n",
    "    for i in range(taille,data_set.size()):\n",
    "        test_set.addExample(data_set.getX(i),data_set.getY(i))\n",
    "    return train_set,test_set"
   ]
  },
  {
   "cell_type": "code",
   "execution_count": 18,
   "metadata": {},
   "outputs": [],
   "source": [
    "import statistics as stat\n",
    "def normalisation(lset):\n",
    "    for i in range(lset.getInputDimension()):\n",
    "        colonne=lset.x[:,i]\n",
    "        moy=stat.mean(list(train_set.x[:,1]))\n",
    "        lset.x[:,i]-moy\n",
    "    return lset"
   ]
  },
  {
   "cell_type": "markdown",
   "metadata": {},
   "source": [
    "## Regression supervisée : "
   ]
  },
  {
   "cell_type": "markdown",
   "metadata": {},
   "source": [
    "####  I. Prediction du vote_average d'un film à partir de vote_count, popularity et les catégories:"
   ]
  },
  {
   "cell_type": "code",
   "execution_count": 19,
   "metadata": {},
   "outputs": [],
   "source": [
    "train_set,test_set=split(50,ratingPredic_base)"
   ]
  },
  {
   "cell_type": "code",
   "execution_count": 20,
   "metadata": {},
   "outputs": [],
   "source": [
    "class ClassifierKNN(cl.Classifier):\n",
    "    def __init__(self, input_dimension,k):\n",
    "        \"\"\" Constructeur de Classifier\n",
    "            Argument:\n",
    "                - intput_dimension (int) : dimension d'entrée des exemples\n",
    "            Hypothèse : input_dimension > 0\n",
    "        \"\"\"\n",
    "        self.input_dimension=input_dimension\n",
    "        self.k=k  \n",
    "        \n",
    "    def predict(self, x):\n",
    "        \"\"\" rend la prediction sur x (-1 ou +1)\n",
    "        \"\"\"\n",
    "        list_distance=[]\n",
    "        for i in range(self.reference.size()):\n",
    "            point=self.reference.getX(i)\n",
    "            d=0\n",
    "            for j in range(self.input_dimension):\n",
    "                d+=(point[j]-x[j])**2\n",
    "            list_distance.append(d)\n",
    "        list_distance=np.argsort(list_distance)\n",
    "        list_distance=list_distance[0:self.k]\n",
    "        som=0\n",
    "        for i in list_distance:\n",
    "            som+=self.reference.getY(i)\n",
    "        return som/self.k\n",
    "\n",
    "    def train(self, labeledSet):\n",
    "        self.reference=labeledSet\n",
    "    def accuracy(self, dataset,e):\n",
    "        acc=0\n",
    "        for i in range (dataset.size()):\n",
    "            if (abs(dataset.getY(i)-self.predict(dataset.getX(i))))<e:\n",
    "                acc+=1;\n",
    "        moy=acc/dataset.size()\n",
    "        return(moy)\n",
    "def test_accuracy(k,train_set,test_set,e):\n",
    "    l=[]\n",
    "    for j in range(1,k+1):\n",
    "        knn = ClassifierKNN(train_set.input_dimension,j)\n",
    "        knn.train(train_set)\n",
    "        l.append(knn.accuracy(test_set,e))\n",
    "    return l\n",
    "def test_accuracy_e(k,train_set,test_set,e):\n",
    "    l=[]\n",
    "    for j in e:\n",
    "        knn = ClassifierKNN(train_set.input_dimension,k)\n",
    "        knn.train(train_set)\n",
    "        l.append(knn.accuracy(test_set,j))\n",
    "    return l\n",
    "def test_accuracy_tailletrain(k,ratingPredic_baseNormalise,e):\n",
    "    l=[]\n",
    "    x=[]\n",
    "    for j in range(10,60,10):\n",
    "        x.append(j)\n",
    "        train_set,test_set=split(j,ratingPredic_base)\n",
    "        t,test_set=(99,ratingPredic_base)\n",
    "        knn = ClassifierKNN(train_set.input_dimension,k)\n",
    "        knn.train(train_set)\n",
    "        l.append(knn.accuracy(test_set,e))\n",
    "    return l"
   ]
  },
  {
   "cell_type": "code",
   "execution_count": 21,
   "metadata": {},
   "outputs": [],
   "source": [
    "knn = ClassifierKNN(ratingPredic_base.getInputDimension(),11)\n",
    "knn.train(train_set)"
   ]
  },
  {
   "cell_type": "markdown",
   "metadata": {},
   "source": [
    "##### a. Prédiction de vote_average:"
   ]
  },
  {
   "cell_type": "code",
   "execution_count": 22,
   "metadata": {},
   "outputs": [
    {
     "name": "stdout",
     "output_type": "stream",
     "text": [
      "ID film : 17000 Prediction du vote_average :  [6.36363636]  Vraie valeur du vote_average : [6.4]\n",
      "ID film : 17500 Prediction du vote_average :  [5.88181818]  Vraie valeur du vote_average : [7.8]\n",
      "ID film : 7500 Prediction du vote_average :  [6.5]  Vraie valeur du vote_average : [7.8]\n",
      "ID film : 862 Prediction du vote_average :  [7.03636364]  Vraie valeur du vote_average : [7.4]\n",
      "ID film : 17 Prediction du vote_average :  [6.74545455]  Vraie valeur du vote_average : [6.2]\n",
      "ID film : 175 Prediction du vote_average :  [6.55454545]  Vraie valeur du vote_average : [7.4]\n",
      "ID film : 75 Prediction du vote_average :  [6.21818182]  Vraie valeur du vote_average : [6.1]\n",
      "ID film : 86 Prediction du vote_average :  [6.]  Vraie valeur du vote_average : [5.6]\n"
     ]
    }
   ],
   "source": [
    "f=ratingPredic_base.getX(17000)\n",
    "y=ratingPredic_base.getY(17000)\n",
    "print(\"ID film : 17000 Prediction du vote_average : \",knn.predict(f),\" Vraie valeur du vote_average :\",y)\n",
    "f=ratingPredic_base.getX(17500)\n",
    "y=ratingPredic_base.getY(17500)\n",
    "print(\"ID film : 17500 Prediction du vote_average : \",knn.predict(f),\" Vraie valeur du vote_average :\",y)\n",
    "f=ratingPredic_base.getX(7500)\n",
    "y=ratingPredic_base.getY(7500)\n",
    "print(\"ID film : 7500 Prediction du vote_average : \",knn.predict(f),\" Vraie valeur du vote_average :\",y)\n",
    "f=ratingPredic_base.getX(862)\n",
    "y=ratingPredic_base.getY(862)\n",
    "print(\"ID film : 862 Prediction du vote_average : \",knn.predict(f),\" Vraie valeur du vote_average :\",y)\n",
    "f=ratingPredic_base.getX(17)\n",
    "y=ratingPredic_base.getY(17)\n",
    "print(\"ID film : 17 Prediction du vote_average : \",knn.predict(f),\" Vraie valeur du vote_average :\",y)\n",
    "f=ratingPredic_base.getX(175)\n",
    "y=ratingPredic_base.getY(175)\n",
    "print(\"ID film : 175 Prediction du vote_average : \",knn.predict(f),\" Vraie valeur du vote_average :\",y)\n",
    "f=ratingPredic_base.getX(75)\n",
    "y=ratingPredic_base.getY(75)\n",
    "print(\"ID film : 75 Prediction du vote_average : \",knn.predict(f),\" Vraie valeur du vote_average :\",y)\n",
    "f=ratingPredic_base.getX(86)\n",
    "y=ratingPredic_base.getY(86)\n",
    "print(\"ID film : 86 Prediction du vote_average : \",knn.predict(f),\" Vraie valeur du vote_average :\",y)"
   ]
  },
  {
   "cell_type": "code",
   "execution_count": 23,
   "metadata": {},
   "outputs": [
    {
     "name": "stdout",
     "output_type": "stream",
     "text": [
      "Acuracy pour le KNN : 0.3333333333333333\n"
     ]
    }
   ],
   "source": [
    "train_set_forAccuracy,test_set_forAccuracy=split(99,ratingPredic_base)#En raison du temps de calcul de l'accuracy \n",
    "print(\"Acuracy pour le KNN :\",knn.accuracy(test_set_forAccuracy,0.5)) #on réduit la table de test mais en gardant la meme\n",
    "                                                                      #table de train"
   ]
  },
  {
   "cell_type": "markdown",
   "metadata": {},
   "source": [
    "##### b. Variation de l'accuracy en fonction de k :"
   ]
  },
  {
   "cell_type": "code",
   "execution_count": 24,
   "metadata": {},
   "outputs": [
    {
     "ename": "KeyboardInterrupt",
     "evalue": "",
     "output_type": "error",
     "traceback": [
      "\u001b[0;31m---------------------------------------------------------------------------\u001b[0m",
      "\u001b[0;31mKeyboardInterrupt\u001b[0m                         Traceback (most recent call last)",
      "\u001b[0;32m<ipython-input-24-4b2ba3c84ec9>\u001b[0m in \u001b[0;36m<module>\u001b[0;34m()\u001b[0m\n\u001b[0;32m----> 1\u001b[0;31m \u001b[0ml\u001b[0m\u001b[0;34m=\u001b[0m\u001b[0mtest_accuracy\u001b[0m\u001b[0;34m(\u001b[0m\u001b[0;36m10\u001b[0m\u001b[0;34m,\u001b[0m\u001b[0mtrain_set\u001b[0m\u001b[0;34m,\u001b[0m\u001b[0mtest_set_forAccuracy\u001b[0m\u001b[0;34m,\u001b[0m\u001b[0;36m0.5\u001b[0m\u001b[0;34m)\u001b[0m\u001b[0;34m\u001b[0m\u001b[0;34m\u001b[0m\u001b[0m\n\u001b[0m\u001b[1;32m      2\u001b[0m \u001b[0mplt\u001b[0m\u001b[0;34m.\u001b[0m\u001b[0mtitle\u001b[0m\u001b[0;34m(\u001b[0m\u001b[0;34m\"Variation de l'accuracy en fonction de k\"\u001b[0m\u001b[0;34m)\u001b[0m\u001b[0;34m\u001b[0m\u001b[0;34m\u001b[0m\u001b[0m\n\u001b[1;32m      3\u001b[0m \u001b[0mplt\u001b[0m\u001b[0;34m.\u001b[0m\u001b[0mxlabel\u001b[0m\u001b[0;34m(\u001b[0m\u001b[0;34m'Variation de k'\u001b[0m\u001b[0;34m)\u001b[0m\u001b[0;34m\u001b[0m\u001b[0;34m\u001b[0m\u001b[0m\n\u001b[1;32m      4\u001b[0m \u001b[0mplt\u001b[0m\u001b[0;34m.\u001b[0m\u001b[0mylabel\u001b[0m\u001b[0;34m(\u001b[0m\u001b[0;34m'Accuracy'\u001b[0m\u001b[0;34m)\u001b[0m\u001b[0;34m\u001b[0m\u001b[0;34m\u001b[0m\u001b[0m\n\u001b[1;32m      5\u001b[0m \u001b[0mplt\u001b[0m\u001b[0;34m.\u001b[0m\u001b[0mplot\u001b[0m\u001b[0;34m(\u001b[0m\u001b[0ml\u001b[0m\u001b[0;34m)\u001b[0m\u001b[0;34m\u001b[0m\u001b[0;34m\u001b[0m\u001b[0m\n",
      "\u001b[0;32m<ipython-input-20-da2ea340c63b>\u001b[0m in \u001b[0;36mtest_accuracy\u001b[0;34m(k, train_set, test_set, e)\u001b[0m\n\u001b[1;32m     40\u001b[0m         \u001b[0mknn\u001b[0m \u001b[0;34m=\u001b[0m \u001b[0mClassifierKNN\u001b[0m\u001b[0;34m(\u001b[0m\u001b[0mtrain_set\u001b[0m\u001b[0;34m.\u001b[0m\u001b[0minput_dimension\u001b[0m\u001b[0;34m,\u001b[0m\u001b[0mj\u001b[0m\u001b[0;34m)\u001b[0m\u001b[0;34m\u001b[0m\u001b[0;34m\u001b[0m\u001b[0m\n\u001b[1;32m     41\u001b[0m         \u001b[0mknn\u001b[0m\u001b[0;34m.\u001b[0m\u001b[0mtrain\u001b[0m\u001b[0;34m(\u001b[0m\u001b[0mtrain_set\u001b[0m\u001b[0;34m)\u001b[0m\u001b[0;34m\u001b[0m\u001b[0;34m\u001b[0m\u001b[0m\n\u001b[0;32m---> 42\u001b[0;31m         \u001b[0ml\u001b[0m\u001b[0;34m.\u001b[0m\u001b[0mappend\u001b[0m\u001b[0;34m(\u001b[0m\u001b[0mknn\u001b[0m\u001b[0;34m.\u001b[0m\u001b[0maccuracy\u001b[0m\u001b[0;34m(\u001b[0m\u001b[0mtest_set\u001b[0m\u001b[0;34m,\u001b[0m\u001b[0me\u001b[0m\u001b[0;34m)\u001b[0m\u001b[0;34m)\u001b[0m\u001b[0;34m\u001b[0m\u001b[0;34m\u001b[0m\u001b[0m\n\u001b[0m\u001b[1;32m     43\u001b[0m     \u001b[0;32mreturn\u001b[0m \u001b[0ml\u001b[0m\u001b[0;34m\u001b[0m\u001b[0;34m\u001b[0m\u001b[0m\n\u001b[1;32m     44\u001b[0m \u001b[0;32mdef\u001b[0m \u001b[0mtest_accuracy_e\u001b[0m\u001b[0;34m(\u001b[0m\u001b[0mk\u001b[0m\u001b[0;34m,\u001b[0m\u001b[0mtrain_set\u001b[0m\u001b[0;34m,\u001b[0m\u001b[0mtest_set\u001b[0m\u001b[0;34m,\u001b[0m\u001b[0me\u001b[0m\u001b[0;34m)\u001b[0m\u001b[0;34m:\u001b[0m\u001b[0;34m\u001b[0m\u001b[0;34m\u001b[0m\u001b[0m\n",
      "\u001b[0;32m<ipython-input-20-da2ea340c63b>\u001b[0m in \u001b[0;36maccuracy\u001b[0;34m(self, dataset, e)\u001b[0m\n\u001b[1;32m     31\u001b[0m         \u001b[0macc\u001b[0m\u001b[0;34m=\u001b[0m\u001b[0;36m0\u001b[0m\u001b[0;34m\u001b[0m\u001b[0;34m\u001b[0m\u001b[0m\n\u001b[1;32m     32\u001b[0m         \u001b[0;32mfor\u001b[0m \u001b[0mi\u001b[0m \u001b[0;32min\u001b[0m \u001b[0mrange\u001b[0m \u001b[0;34m(\u001b[0m\u001b[0mdataset\u001b[0m\u001b[0;34m.\u001b[0m\u001b[0msize\u001b[0m\u001b[0;34m(\u001b[0m\u001b[0;34m)\u001b[0m\u001b[0;34m)\u001b[0m\u001b[0;34m:\u001b[0m\u001b[0;34m\u001b[0m\u001b[0;34m\u001b[0m\u001b[0m\n\u001b[0;32m---> 33\u001b[0;31m             \u001b[0;32mif\u001b[0m \u001b[0;34m(\u001b[0m\u001b[0mabs\u001b[0m\u001b[0;34m(\u001b[0m\u001b[0mdataset\u001b[0m\u001b[0;34m.\u001b[0m\u001b[0mgetY\u001b[0m\u001b[0;34m(\u001b[0m\u001b[0mi\u001b[0m\u001b[0;34m)\u001b[0m\u001b[0;34m-\u001b[0m\u001b[0mself\u001b[0m\u001b[0;34m.\u001b[0m\u001b[0mpredict\u001b[0m\u001b[0;34m(\u001b[0m\u001b[0mdataset\u001b[0m\u001b[0;34m.\u001b[0m\u001b[0mgetX\u001b[0m\u001b[0;34m(\u001b[0m\u001b[0mi\u001b[0m\u001b[0;34m)\u001b[0m\u001b[0;34m)\u001b[0m\u001b[0;34m)\u001b[0m\u001b[0;34m)\u001b[0m\u001b[0;34m<\u001b[0m\u001b[0me\u001b[0m\u001b[0;34m:\u001b[0m\u001b[0;34m\u001b[0m\u001b[0;34m\u001b[0m\u001b[0m\n\u001b[0m\u001b[1;32m     34\u001b[0m                 \u001b[0macc\u001b[0m\u001b[0;34m+=\u001b[0m\u001b[0;36m1\u001b[0m\u001b[0;34m;\u001b[0m\u001b[0;34m\u001b[0m\u001b[0;34m\u001b[0m\u001b[0m\n\u001b[1;32m     35\u001b[0m         \u001b[0mmoy\u001b[0m\u001b[0;34m=\u001b[0m\u001b[0macc\u001b[0m\u001b[0;34m/\u001b[0m\u001b[0mdataset\u001b[0m\u001b[0;34m.\u001b[0m\u001b[0msize\u001b[0m\u001b[0;34m(\u001b[0m\u001b[0;34m)\u001b[0m\u001b[0;34m\u001b[0m\u001b[0;34m\u001b[0m\u001b[0m\n",
      "\u001b[0;32m<ipython-input-20-da2ea340c63b>\u001b[0m in \u001b[0;36mpredict\u001b[0;34m(self, x)\u001b[0m\n\u001b[1;32m     17\u001b[0m             \u001b[0md\u001b[0m\u001b[0;34m=\u001b[0m\u001b[0;36m0\u001b[0m\u001b[0;34m\u001b[0m\u001b[0;34m\u001b[0m\u001b[0m\n\u001b[1;32m     18\u001b[0m             \u001b[0;32mfor\u001b[0m \u001b[0mj\u001b[0m \u001b[0;32min\u001b[0m \u001b[0mrange\u001b[0m\u001b[0;34m(\u001b[0m\u001b[0mself\u001b[0m\u001b[0;34m.\u001b[0m\u001b[0minput_dimension\u001b[0m\u001b[0;34m)\u001b[0m\u001b[0;34m:\u001b[0m\u001b[0;34m\u001b[0m\u001b[0;34m\u001b[0m\u001b[0m\n\u001b[0;32m---> 19\u001b[0;31m                 \u001b[0md\u001b[0m\u001b[0;34m+=\u001b[0m\u001b[0;34m(\u001b[0m\u001b[0mpoint\u001b[0m\u001b[0;34m[\u001b[0m\u001b[0mj\u001b[0m\u001b[0;34m]\u001b[0m\u001b[0;34m-\u001b[0m\u001b[0mx\u001b[0m\u001b[0;34m[\u001b[0m\u001b[0mj\u001b[0m\u001b[0;34m]\u001b[0m\u001b[0;34m)\u001b[0m\u001b[0;34m**\u001b[0m\u001b[0;36m2\u001b[0m\u001b[0;34m\u001b[0m\u001b[0;34m\u001b[0m\u001b[0m\n\u001b[0m\u001b[1;32m     20\u001b[0m             \u001b[0mlist_distance\u001b[0m\u001b[0;34m.\u001b[0m\u001b[0mappend\u001b[0m\u001b[0;34m(\u001b[0m\u001b[0md\u001b[0m\u001b[0;34m)\u001b[0m\u001b[0;34m\u001b[0m\u001b[0;34m\u001b[0m\u001b[0m\n\u001b[1;32m     21\u001b[0m         \u001b[0mlist_distance\u001b[0m\u001b[0;34m=\u001b[0m\u001b[0mnp\u001b[0m\u001b[0;34m.\u001b[0m\u001b[0margsort\u001b[0m\u001b[0;34m(\u001b[0m\u001b[0mlist_distance\u001b[0m\u001b[0;34m)\u001b[0m\u001b[0;34m\u001b[0m\u001b[0;34m\u001b[0m\u001b[0m\n",
      "\u001b[0;31mKeyboardInterrupt\u001b[0m: "
     ]
    }
   ],
   "source": [
    "l=test_accuracy(10,train_set,test_set_forAccuracy,0.5)\n",
    "plt.title(\"Variation de l'accuracy en fonction de k\")\n",
    "plt.xlabel('Variation de k')\n",
    "plt.ylabel('Accuracy')\n",
    "plt.plot(l)\n",
    "plt.show()"
   ]
  },
  {
   "cell_type": "markdown",
   "metadata": {},
   "source": [
    "##### c. Variation de l'accuracy en fonction de epsilon:"
   ]
  },
  {
   "cell_type": "code",
   "execution_count": 69,
   "metadata": {},
   "outputs": [
    {
     "data": {
      "image/png": "[encoded data removed]",
      "text/plain": [
       "<matplotlib.figure.Figure at 0x7f2fc9a37048>"
      ]
     },
     "metadata": {
      "needs_background": "light"
     },
     "output_type": "display_data"
    }
   ],
   "source": [
    "l=test_accuracy_e(10,train_set,test_set_forAccuracy,[0.1,0.2,0.4,0.7,0.9,1,1.2,1.5])\n",
    "plt.title(\"Variation de l'accuracy en fonction de epsilon\")\n",
    "plt.xlabel('Variation de epsilon')\n",
    "plt.ylabel('Accuracy')\n",
    "plt.plot([0.1,0.2,0.4,0.7,0.9,1,1.2,1.5],l)\n",
    "\n",
    "plt.show()"
   ]
  },
  {
   "cell_type": "markdown",
   "metadata": {},
   "source": [
    "##### d. Prédiction de vote_average aprés normalisation :"
   ]
  },
  {
   "cell_type": "code",
   "execution_count": 72,
   "metadata": {},
   "outputs": [],
   "source": [
    "ratingPredic_baseNormalise= normalisation(ratingPredic_base)\n",
    "train_setNormalise,test_setNormalise=split(50,ratingPredic_baseNormalise)"
   ]
  },
  {
   "cell_type": "code",
   "execution_count": 73,
   "metadata": {},
   "outputs": [
    {
     "name": "stdout",
     "output_type": "stream",
     "text": [
      "ID film : 17000 Prediction du vote_average :  [ 6.36363636]  Vraie valeur du vote_average : [ 6.4]\n",
      "ID film : 17500 Prediction du vote_average :  [ 5.88181818]  Vraie valeur du vote_average : [ 7.8]\n",
      "ID film : 7500 Prediction du vote_average :  [ 6.5]  Vraie valeur du vote_average : [ 7.8]\n",
      "ID film : 862 Prediction du vote_average :  [ 7.03636364]  Vraie valeur du vote_average : [ 7.4]\n",
      "ID film : 17 Prediction du vote_average :  [ 6.74545455]  Vraie valeur du vote_average : [ 6.2]\n",
      "ID film : 175 Prediction du vote_average :  [ 6.55454545]  Vraie valeur du vote_average : [ 7.4]\n",
      "ID film : 75 Prediction du vote_average :  [ 6.21818182]  Vraie valeur du vote_average : [ 6.1]\n",
      "ID film : 86 Prediction du vote_average :  [ 6.]  Vraie valeur du vote_average : [ 5.6]\n"
     ]
    }
   ],
   "source": [
    "knn.train(train_setNormalise)\n",
    "\n",
    "f=ratingPredic_baseNormalise.getX(17000)\n",
    "y=ratingPredic_baseNormalise.getY(17000)\n",
    "print(\"ID film : 17000 Prediction du vote_average : \",knn.predict(f),\" Vraie valeur du vote_average :\",y)\n",
    "f=ratingPredic_baseNormalise.getX(17500)\n",
    "y=ratingPredic_baseNormalise.getY(17500)\n",
    "print(\"ID film : 17500 Prediction du vote_average : \",knn.predict(f),\" Vraie valeur du vote_average :\",y)\n",
    "f=ratingPredic_baseNormalise.getX(7500)\n",
    "y=ratingPredic_baseNormalise.getY(7500)\n",
    "print(\"ID film : 7500 Prediction du vote_average : \",knn.predict(f),\" Vraie valeur du vote_average :\",y)\n",
    "f=ratingPredic_baseNormalise.getX(862)\n",
    "y=ratingPredic_baseNormalise.getY(862)\n",
    "print(\"ID film : 862 Prediction du vote_average : \",knn.predict(f),\" Vraie valeur du vote_average :\",y)\n",
    "f=ratingPredic_baseNormalise.getX(17)\n",
    "y=ratingPredic_baseNormalise.getY(17)\n",
    "print(\"ID film : 17 Prediction du vote_average : \",knn.predict(f),\" Vraie valeur du vote_average :\",y)\n",
    "f=ratingPredic_baseNormalise.getX(175)\n",
    "y=ratingPredic_baseNormalise.getY(175)\n",
    "print(\"ID film : 175 Prediction du vote_average : \",knn.predict(f),\" Vraie valeur du vote_average :\",y)\n",
    "f=ratingPredic_baseNormalise.getX(75)\n",
    "y=ratingPredic_baseNormalise.getY(75)\n",
    "print(\"ID film : 75 Prediction du vote_average : \",knn.predict(f),\" Vraie valeur du vote_average :\",y)\n",
    "f=ratingPredic_baseNormalise.getX(86)\n",
    "y=ratingPredic_baseNormalise.getY(86)\n",
    "print(\"ID film : 86 Prediction du vote_average : \",knn.predict(f),\" Vraie valeur du vote_average :\",y)"
   ]
  },
  {
   "cell_type": "markdown",
   "metadata": {},
   "source": [
    "##### e. Variation de l'accuracy en fonction du pourcentage taille du train :"
   ]
  },
  {
   "cell_type": "code",
   "execution_count": 75,
   "metadata": {},
   "outputs": [
    {
     "ename": "KeyboardInterrupt",
     "evalue": "",
     "output_type": "error",
     "traceback": [
      "\u001b[0;31m---------------------------------------------------------------------------\u001b[0m",
      "\u001b[0;31mKeyboardInterrupt\u001b[0m                         Traceback (most recent call last)",
      "\u001b[0;32m<ipython-input-75-3eaa8bc7e71f>\u001b[0m in \u001b[0;36m<module>\u001b[0;34m\u001b[0m\n\u001b[0;32m----> 1\u001b[0;31m \u001b[0ml\u001b[0m\u001b[0;34m,\u001b[0m\u001b[0mx\u001b[0m\u001b[0;34m=\u001b[0m\u001b[0mtest_accuracy_tailletrain\u001b[0m\u001b[0;34m(\u001b[0m\u001b[0;36m10\u001b[0m\u001b[0;34m,\u001b[0m\u001b[0mratingPredic_baseNormalise\u001b[0m\u001b[0;34m,\u001b[0m\u001b[0;36m0.5\u001b[0m\u001b[0;34m)\u001b[0m\u001b[0;34m\u001b[0m\u001b[0;34m\u001b[0m\u001b[0m\n\u001b[0m\u001b[1;32m      2\u001b[0m \u001b[0mplt\u001b[0m\u001b[0;34m.\u001b[0m\u001b[0mtitle\u001b[0m\u001b[0;34m(\u001b[0m\u001b[0;34m\"Variation de l'accuracy en fonction du pourcentage taille du train\"\u001b[0m\u001b[0;34m)\u001b[0m\u001b[0;34m\u001b[0m\u001b[0;34m\u001b[0m\u001b[0m\n\u001b[1;32m      3\u001b[0m \u001b[0mplt\u001b[0m\u001b[0;34m.\u001b[0m\u001b[0mxlabel\u001b[0m\u001b[0;34m(\u001b[0m\u001b[0;34m'Variation du pourcentage'\u001b[0m\u001b[0;34m)\u001b[0m\u001b[0;34m\u001b[0m\u001b[0;34m\u001b[0m\u001b[0m\n\u001b[1;32m      4\u001b[0m \u001b[0mplt\u001b[0m\u001b[0;34m.\u001b[0m\u001b[0mylabel\u001b[0m\u001b[0;34m(\u001b[0m\u001b[0;34m'Accuracy'\u001b[0m\u001b[0;34m)\u001b[0m\u001b[0;34m\u001b[0m\u001b[0;34m\u001b[0m\u001b[0m\n\u001b[1;32m      5\u001b[0m \u001b[0mplt\u001b[0m\u001b[0;34m.\u001b[0m\u001b[0mplot\u001b[0m\u001b[0;34m(\u001b[0m\u001b[0mx\u001b[0m\u001b[0;34m,\u001b[0m\u001b[0ml\u001b[0m\u001b[0;34m)\u001b[0m\u001b[0;34m\u001b[0m\u001b[0;34m\u001b[0m\u001b[0m\n",
      "\u001b[0;32m<ipython-input-74-7925a885ad43>\u001b[0m in \u001b[0;36mtest_accuracy_tailletrain\u001b[0;34m(k, ratingPredic_baseNormalise, e)\u001b[0m\n\u001b[1;32m     58\u001b[0m         \u001b[0mknn\u001b[0m \u001b[0;34m=\u001b[0m \u001b[0mClassifierKNN\u001b[0m\u001b[0;34m(\u001b[0m\u001b[0mtrain_set\u001b[0m\u001b[0;34m.\u001b[0m\u001b[0minput_dimension\u001b[0m\u001b[0;34m,\u001b[0m\u001b[0mk\u001b[0m\u001b[0;34m)\u001b[0m\u001b[0;34m\u001b[0m\u001b[0;34m\u001b[0m\u001b[0m\n\u001b[1;32m     59\u001b[0m         \u001b[0mknn\u001b[0m\u001b[0;34m.\u001b[0m\u001b[0mtrain\u001b[0m\u001b[0;34m(\u001b[0m\u001b[0mtrain_set\u001b[0m\u001b[0;34m)\u001b[0m\u001b[0;34m\u001b[0m\u001b[0;34m\u001b[0m\u001b[0m\n\u001b[0;32m---> 60\u001b[0;31m         \u001b[0ml\u001b[0m\u001b[0;34m.\u001b[0m\u001b[0mappend\u001b[0m\u001b[0;34m(\u001b[0m\u001b[0mknn\u001b[0m\u001b[0;34m.\u001b[0m\u001b[0maccuracy\u001b[0m\u001b[0;34m(\u001b[0m\u001b[0mtest_set\u001b[0m\u001b[0;34m,\u001b[0m\u001b[0me\u001b[0m\u001b[0;34m)\u001b[0m\u001b[0;34m)\u001b[0m\u001b[0;34m\u001b[0m\u001b[0;34m\u001b[0m\u001b[0m\n\u001b[0m\u001b[1;32m     61\u001b[0m     \u001b[0;32mreturn\u001b[0m \u001b[0ml\u001b[0m\u001b[0;34m\u001b[0m\u001b[0;34m\u001b[0m\u001b[0m\n",
      "\u001b[0;32m<ipython-input-74-7925a885ad43>\u001b[0m in \u001b[0;36maccuracy\u001b[0;34m(self, dataset, e)\u001b[0m\n\u001b[1;32m     31\u001b[0m         \u001b[0macc\u001b[0m\u001b[0;34m=\u001b[0m\u001b[0;36m0\u001b[0m\u001b[0;34m\u001b[0m\u001b[0;34m\u001b[0m\u001b[0m\n\u001b[1;32m     32\u001b[0m         \u001b[0;32mfor\u001b[0m \u001b[0mi\u001b[0m \u001b[0;32min\u001b[0m \u001b[0mrange\u001b[0m \u001b[0;34m(\u001b[0m\u001b[0mdataset\u001b[0m\u001b[0;34m.\u001b[0m\u001b[0msize\u001b[0m\u001b[0;34m(\u001b[0m\u001b[0;34m)\u001b[0m\u001b[0;34m)\u001b[0m\u001b[0;34m:\u001b[0m\u001b[0;34m\u001b[0m\u001b[0;34m\u001b[0m\u001b[0m\n\u001b[0;32m---> 33\u001b[0;31m             \u001b[0;32mif\u001b[0m \u001b[0;34m(\u001b[0m\u001b[0mabs\u001b[0m\u001b[0;34m(\u001b[0m\u001b[0mdataset\u001b[0m\u001b[0;34m.\u001b[0m\u001b[0mgetY\u001b[0m\u001b[0;34m(\u001b[0m\u001b[0mi\u001b[0m\u001b[0;34m)\u001b[0m\u001b[0;34m-\u001b[0m\u001b[0mself\u001b[0m\u001b[0;34m.\u001b[0m\u001b[0mpredict\u001b[0m\u001b[0;34m(\u001b[0m\u001b[0mdataset\u001b[0m\u001b[0;34m.\u001b[0m\u001b[0mgetX\u001b[0m\u001b[0;34m(\u001b[0m\u001b[0mi\u001b[0m\u001b[0;34m)\u001b[0m\u001b[0;34m)\u001b[0m\u001b[0;34m)\u001b[0m\u001b[0;34m)\u001b[0m\u001b[0;34m<\u001b[0m\u001b[0me\u001b[0m\u001b[0;34m:\u001b[0m\u001b[0;34m\u001b[0m\u001b[0;34m\u001b[0m\u001b[0m\n\u001b[0m\u001b[1;32m     34\u001b[0m                 \u001b[0macc\u001b[0m\u001b[0;34m+=\u001b[0m\u001b[0;36m1\u001b[0m\u001b[0;34m;\u001b[0m\u001b[0;34m\u001b[0m\u001b[0;34m\u001b[0m\u001b[0m\n\u001b[1;32m     35\u001b[0m         \u001b[0mmoy\u001b[0m\u001b[0;34m=\u001b[0m\u001b[0macc\u001b[0m\u001b[0;34m/\u001b[0m\u001b[0mdataset\u001b[0m\u001b[0;34m.\u001b[0m\u001b[0msize\u001b[0m\u001b[0;34m(\u001b[0m\u001b[0;34m)\u001b[0m\u001b[0;34m\u001b[0m\u001b[0;34m\u001b[0m\u001b[0m\n",
      "\u001b[0;32m<ipython-input-74-7925a885ad43>\u001b[0m in \u001b[0;36mpredict\u001b[0;34m(self, x)\u001b[0m\n\u001b[1;32m     17\u001b[0m             \u001b[0md\u001b[0m\u001b[0;34m=\u001b[0m\u001b[0;36m0\u001b[0m\u001b[0;34m\u001b[0m\u001b[0;34m\u001b[0m\u001b[0m\n\u001b[1;32m     18\u001b[0m             \u001b[0;32mfor\u001b[0m \u001b[0mj\u001b[0m \u001b[0;32min\u001b[0m \u001b[0mrange\u001b[0m\u001b[0;34m(\u001b[0m\u001b[0mself\u001b[0m\u001b[0;34m.\u001b[0m\u001b[0minput_dimension\u001b[0m\u001b[0;34m)\u001b[0m\u001b[0;34m:\u001b[0m\u001b[0;34m\u001b[0m\u001b[0;34m\u001b[0m\u001b[0m\n\u001b[0;32m---> 19\u001b[0;31m                 \u001b[0md\u001b[0m\u001b[0;34m+=\u001b[0m\u001b[0;34m(\u001b[0m\u001b[0mpoint\u001b[0m\u001b[0;34m[\u001b[0m\u001b[0mj\u001b[0m\u001b[0;34m]\u001b[0m\u001b[0;34m-\u001b[0m\u001b[0mx\u001b[0m\u001b[0;34m[\u001b[0m\u001b[0mj\u001b[0m\u001b[0;34m]\u001b[0m\u001b[0;34m)\u001b[0m\u001b[0;34m**\u001b[0m\u001b[0;36m2\u001b[0m\u001b[0;34m\u001b[0m\u001b[0;34m\u001b[0m\u001b[0m\n\u001b[0m\u001b[1;32m     20\u001b[0m             \u001b[0mlist_distance\u001b[0m\u001b[0;34m.\u001b[0m\u001b[0mappend\u001b[0m\u001b[0;34m(\u001b[0m\u001b[0md\u001b[0m\u001b[0;34m)\u001b[0m\u001b[0;34m\u001b[0m\u001b[0;34m\u001b[0m\u001b[0m\n\u001b[1;32m     21\u001b[0m         \u001b[0mlist_distance\u001b[0m\u001b[0;34m=\u001b[0m\u001b[0mnp\u001b[0m\u001b[0;34m.\u001b[0m\u001b[0margsort\u001b[0m\u001b[0;34m(\u001b[0m\u001b[0mlist_distance\u001b[0m\u001b[0;34m)\u001b[0m\u001b[0;34m\u001b[0m\u001b[0;34m\u001b[0m\u001b[0m\n",
      "\u001b[0;31mKeyboardInterrupt\u001b[0m: "
     ]
    }
   ],
   "source": [
    "l,x=test_accuracy_tailletrain(10,ratingPredic_baseNormalise,0.5)\n",
    "plt.title(\"Variation de l'accuracy en fonction du pourcentage taille du train\")\n",
    "plt.xlabel('Variation du pourcentage')\n",
    "plt.ylabel('Accuracy')\n",
    "plt.plot(x,l)\n",
    "plt.show()"
   ]
  },
  {
   "cell_type": "markdown",
   "metadata": {},
   "source": [
    "## Classification supervisée"
   ]
  },
  {
   "cell_type": "markdown",
   "metadata": {},
   "source": [
    "### Classification des catégorie :"
   ]
  },
  {
   "cell_type": "markdown",
   "metadata": {},
   "source": [
    "##### a. Construction des tables train et test :"
   ]
  },
  {
   "cell_type": "code",
   "execution_count": 26,
   "metadata": {},
   "outputs": [],
   "source": [
    "class ClassifierKNN_unique(cl.Classifier):\n",
    "    def __init__(self, input_dimension):\n",
    "        \"\"\" Constructeur de Classifier\n",
    "            Argument:\n",
    "                - intput_dimension (int) : dimension d'entrée des exemples\n",
    "            Hypothèse : input_dimension > 0\n",
    "        \"\"\"\n",
    "        self.input_dimension=input_dimension\n",
    "        self.k=1 \n",
    "        \n",
    "    def predict(self, x):\n",
    "        \"\"\" rend la prediction sur x (-1 ou +1)\n",
    "        \"\"\"\n",
    "        list_distance=[]\n",
    "        for i in range(self.reference.size()):\n",
    "            point=self.reference.getX(i)\n",
    "            d=0\n",
    "            for j in range(self.input_dimension):\n",
    "                d+=(point[j]-x[j])**2\n",
    "            list_distance.append(d)\n",
    "        list_distance=np.argsort(list_distance)\n",
    "        voisin=list_distance[0]\n",
    "        return self.reference.getY(voisin)\n",
    "\n",
    "    def train(self, labeledSet):\n",
    "        self.reference=labeledSet"
   ]
  },
  {
   "cell_type": "code",
   "execution_count": 27,
   "metadata": {
    "scrolled": true
   },
   "outputs": [
    {
     "name": "stdout",
     "output_type": "stream",
     "text": [
      "10764 7176\n"
     ]
    }
   ],
   "source": [
    "taille=int(60*len(moviesReduit_index)/100)\n",
    "train_id=list(moviesReduit_index.values())[0:taille]\n",
    "test_id=list(moviesReduit_index.values())[taille:len(moviesReduit_index.values())]\n",
    "print(len(train_id),len(test_id))\n"
   ]
  },
  {
   "cell_type": "code",
   "execution_count": 28,
   "metadata": {},
   "outputs": [],
   "source": [
    "from itertools import zip_longest\n",
    "actors_categorie={}#pour chaque acteur on compte le nombre de films qu'il a dans chaque catégorie \n",
    "for i in actors_film.keys():# i est le nom de l'acteur\n",
    "    lesCategorie=[0]*len(categorie_index)\n",
    "    lesFilms=actors_film[i]# liste des films de l'acteur i\n",
    "    for f in lesFilms:\n",
    "        if(f in train_id):\n",
    "            if(f in film_categories.keys()):\n",
    "                cat_film=film_categories[f]\n",
    "                for j in cat_film:\n",
    "                    lesCategorie[j]+=1\n",
    "        actors_categorie[i]=lesCategorie\n",
    "\n",
    "#Pour chaque film on somme actors_categorie des ses acteurs\n",
    "film_sum_categorie={}\n",
    "for f in film_actors.keys():# f est l'indice du film\n",
    "    if(f in train_id):#jjjjjjj\n",
    "        c=[0]*20\n",
    "        lesActeurs=film_actors[f]\n",
    "        for a in lesActeurs:\n",
    "            r=[]\n",
    "            for val in zip_longest(c, actors_categorie[actors_inv[a]], fillvalue = '0'):\n",
    "                r.append(sum(val))\n",
    "            c=r\n",
    "        film_sum_categorie[f]=c\n"
   ]
  },
  {
   "cell_type": "code",
   "execution_count": 29,
   "metadata": {},
   "outputs": [],
   "source": [
    "dim = len(categorie_index) \n",
    "catPredict_base = ls.LabeledSet(dim) \n",
    "for i in film_sum_categorie.keys():\n",
    "    catPredict_base.addExample(film_sum_categorie[i],film_categories[i][0])\n",
    "    \n",
    "\n",
    "    "
   ]
  },
  {
   "cell_type": "code",
   "execution_count": 30,
   "metadata": {},
   "outputs": [],
   "source": [
    "def getSum_acteur_categorie(act):# pour generer le X du film a prédir \n",
    "    #pour chaque acteur on compte le nombre de films qu'il a dans chaque catégorie \n",
    "    lesCategorie=[0]*len(categorie_index)\n",
    "    for a in act:# a est le nom de l'acteur\n",
    "        i=actors_inv[a]\n",
    "        lesFilms=actors_film[i]# liste des films de l'acteur i\n",
    "        for f in lesFilms:\n",
    "            if(f in train_id):\n",
    "                if(f in film_categories.keys()):\n",
    "                    cat_film=film_categories[f]\n",
    "                    for j in cat_film:\n",
    "                        lesCategorie[j]+=1\n",
    "    return lesCategorie"
   ]
  },
  {
   "cell_type": "code",
   "execution_count": 31,
   "metadata": {},
   "outputs": [],
   "source": [
    "knn_unique = ClassifierKNN_unique(20)\n",
    "knn_unique.train(catPredict_base)"
   ]
  },
  {
   "cell_type": "code",
   "execution_count": 32,
   "metadata": {},
   "outputs": [],
   "source": [
    "dim = len(categorie_index) \n",
    "test_set_cat=ls.LabeledSet(dim) \n",
    "for i in test_id:\n",
    "    act=film_actors[i]\n",
    "    test_set_cat.addExample(getSum_acteur_categorie(act),film_categories[i][0])\n"
   ]
  },
  {
   "cell_type": "code",
   "execution_count": 33,
   "metadata": {},
   "outputs": [
    {
     "name": "stdout",
     "output_type": "stream",
     "text": [
      "le nom du film est  50/50 , sa catégorie prédite est  6 Drama  ses vraies catégories  [3, 6]\n",
      "le nom du film est  Happythankyoumoreplease , sa catégorie prédite est  3 Comedy  ses vraies catégories  [3, 6]\n",
      "le nom du film est  Generation P , sa catégorie prédite est  7 Action  ses vraies catégories  [3, 6, 12]\n",
      "le nom du film est  Not Forgotten , sa catégorie prédite est  9 Thriller  ses vraies catégories  [9]\n"
     ]
    }
   ],
   "source": [
    "X=getSum_acteur_categorie(film_actors[17000])\n",
    "c=knn_unique.predict(X)[0]\n",
    "print(\"le nom du film est \",films_inv_index[17000],\", sa catégorie prédite est \",c,categorie_inv_index[c],\" ses vraies catégories \",film_categories[17000])\n",
    "\n",
    "X=getSum_acteur_categorie(film_actors[16005])\n",
    "c=knn_unique.predict(X)[0]\n",
    "print(\"le nom du film est \",films_inv_index[16005],\", sa catégorie prédite est \",c,categorie_inv_index[c],\" ses vraies catégories \",film_categories[16005])\n",
    "\n",
    "X=getSum_acteur_categorie(film_actors[17007])\n",
    "c=knn_unique.predict(X)[0]\n",
    "print(\"le nom du film est \",films_inv_index[17007],\", sa catégorie prédite est \",c,categorie_inv_index[c],\" ses vraies catégories \",film_categories[17007])\n",
    "\n",
    "X=getSum_acteur_categorie(film_actors[15500])\n",
    "c=knn_unique.predict(X)[0]\n",
    "print(\"le nom du film est \",films_inv_index[15500],\", sa catégorie prédite est \",c,categorie_inv_index[c],\" ses vraies catégories \",film_categories[15500])"
   ]
  },
  {
   "cell_type": "code",
   "execution_count": 52,
   "metadata": {},
   "outputs": [],
   "source": [
    "#print(\"Acuracy pour le KNN :\",knn_unique.accuracy(test_set_cat))"
   ]
  },
  {
   "cell_type": "markdown",
   "metadata": {},
   "source": [
    "### Classification des films pour un utilisateur (recommendé ou pas )"
   ]
  },
  {
   "cell_type": "markdown",
   "metadata": {},
   "source": [
    "#### 1. construction du labeledSet"
   ]
  },
  {
   "cell_type": "code",
   "execution_count": 88,
   "metadata": {},
   "outputs": [],
   "source": [
    "import random\n",
    "def get_user_movies(id):#on recupere les films q'un user a vu\n",
    "    films=[]\n",
    "    rat=[]\n",
    "    for i in range(len(ratings)):\n",
    "        if(id==ratings['userId'][i]):\n",
    "            films.append(ratings['movieId'][i])\n",
    "            rat.append(ratings['rating'][i])\n",
    "        if(id<ratings['userId'][i]):\n",
    "            return films,rat\n",
    "    return films,rat\n"
   ]
  },
  {
   "cell_type": "code",
   "execution_count": 83,
   "metadata": {},
   "outputs": [],
   "source": [
    "#construction du labeledSet user_ratingPredic_base \n",
    "user_films,user_ratings=get_user_movies(1)\n",
    "dim = len(categorie_index) \n",
    "user_ratingPredic_base = ls.LabeledSet(dim + 3) \n",
    "\n",
    "for i in range(len(user_ratings)):\n",
    "    cat =[]\n",
    "    if(user_films[i] in moviesReduit_correspendance.keys()):#si le film appartient a la table movies_reduit\n",
    "        info=moviesReduit_correspendance[user_films[i]]\n",
    "        indice=info[0]#indice dans la table films\n",
    "        titre=info[1]#titre du film\n",
    "        m=films[indice]#ligne du film dans la table films \n",
    "        X=[]\n",
    "        if('vote_count' in m.keys()):\n",
    "            X.append(m['vote_count'])\n",
    "        else:\n",
    "            X.append(0)\n",
    "        if('popularity' in m.keys()):\n",
    "            X.append(m['popularity'])\n",
    "        else:\n",
    "            X.append(0)\n",
    "        if('vote_average' in m.keys()):\n",
    "            X.append(m['vote_average'])\n",
    "        else:\n",
    "            X.append(0)\n",
    "            \n",
    "        cat=film_categories[indice]\n",
    "        for j in range(dim) :\n",
    "            if(j in cat):\n",
    "                X.append(1)\n",
    "            else:\n",
    "                X.append(0)\n",
    "        if(user_ratings[i]>=4): # le film a une note supérieur à 4/5\n",
    "            user_ratingPredic_base.addExample(X,1)\n",
    "        else:\n",
    "            user_ratingPredic_base.addExample(X,-1)"
   ]
  },
  {
   "cell_type": "code",
   "execution_count": 84,
   "metadata": {},
   "outputs": [],
   "source": [
    "train_set_user,test_set_user=split(70,user_ratingPredic_base)"
   ]
  },
  {
   "cell_type": "markdown",
   "metadata": {},
   "source": [
    "#### 2. classifieur KNN"
   ]
  },
  {
   "cell_type": "code",
   "execution_count": 209,
   "metadata": {},
   "outputs": [],
   "source": [
    "class ClassifierKNN2(cl.Classifier):\n",
    "    def __init__(self, input_dimension,k):\n",
    "        \"\"\" Constructeur de Classifier\n",
    "            Argument:\n",
    "                - intput_dimension (int) : dimension d'entrée des exemples\n",
    "            Hypothèse : input_dimension > 0\n",
    "        \"\"\"\n",
    "        self.input_dimension=input_dimension\n",
    "        self.k=k  \n",
    "        \n",
    "    def predict(self, x):\n",
    "        \"\"\" rend la prediction sur x (-1 ou +1)\n",
    "        \"\"\"\n",
    "        list_distance=[]\n",
    "        for i in range(self.reference.size()):\n",
    "            point=self.reference.getX(i)\n",
    "            d=0\n",
    "            for j in range(self.input_dimension):\n",
    "                d+=(point[j]-x[j])**2\n",
    "            list_distance.append(d)\n",
    "        list_distance=np.argsort(list_distance)\n",
    "        list_distance=list_distance[0:self.k]\n",
    "        som=0\n",
    "        for i in list_distance:\n",
    "            som+=self.reference.getY(i)\n",
    "        if(som/self.k>=0):\n",
    "            return 1\n",
    "        else:\n",
    "            return -1\n",
    "\n",
    "    def train(self, labeledSet):\n",
    "        self.reference=labeledSet \n",
    "    def accuracy(self, dataset):\n",
    "        acc=0\n",
    "        for i in range (dataset.size()):\n",
    "            if (dataset.getY(i)*self.predict(dataset.getX(i))>=0):\n",
    "                acc+=1;\n",
    "        moy=acc/dataset.size()\n",
    "        return(moy)\n",
    "knn_user = ClassifierKNN2(train_set_user.input_dimension,3)\n",
    "knn_user.train(train_set_user)\n",
    "\n",
    "    "
   ]
  },
  {
   "cell_type": "code",
   "execution_count": 220,
   "metadata": {},
   "outputs": [
    {
     "data": {
      "text/plain": [
       "(array([ 2.,  0.,  0.,  0.,  0.,  0.,  0.,  0.,  0.,  1.]),\n",
       " array([ 0. ,  0.1,  0.2,  0.3,  0.4,  0.5,  0.6,  0.7,  0.8,  0.9,  1. ]),\n",
       " <a list of 10 Patch objects>)"
      ]
     },
     "execution_count": 220,
     "metadata": {},
     "output_type": "execute_result"
    },
    {
     "data": {
      "image/png": "[encoded data removed]",
      "text/plain": [
       "<matplotlib.figure.Figure at 0x7f2fbf8f4e10>"
      ]
     },
     "metadata": {
      "needs_background": "light"
     },
     "output_type": "display_data"
    }
   ],
   "source": [
    "for i in range(test_set_user.size()-1):\n",
    "    just=1\n",
    "    faux=1\n",
    "    if(knn_user.predict(test_set_user.getX(i))==test_set_user.getY(i)[0]):\n",
    "        just+=1\n",
    "    else:\n",
    "        faux+=1\n",
    "data=[\"Bonnes prédictions\"]*int(just)+[\"Mauvaises prédictions\"]*int(faux)\n",
    "plt.hist(data, range = (0, 1), color = 'yellow',\n",
    "            edgecolor = 'red')"
   ]
  },
  {
   "cell_type": "markdown",
   "metadata": {},
   "source": [
    "#### Accuracy :"
   ]
  },
  {
   "cell_type": "code",
   "execution_count": 205,
   "metadata": {},
   "outputs": [
    {
     "data": {
      "image/png": "[encoded data removed]",
      "text/plain": [
       "<matplotlib.figure.Figure at 0x7f2fbfd75390>"
      ]
     },
     "metadata": {
      "needs_background": "light"
     },
     "output_type": "display_data"
    }
   ],
   "source": [
    "e=0.5\n",
    "l=test_accuracy(10,train_set_user,test_set_user,e)\n",
    "plt.title(\"Variation de l'accuracy en fonction de k\")\n",
    "plt.xlabel('Variation de k')\n",
    "plt.ylabel('Accuracy')\n",
    "plt.plot(l)\n",
    "plt.show()"
   ]
  },
  {
   "cell_type": "markdown",
   "metadata": {},
   "source": [
    "#### 3. classifieur Perceptron"
   ]
  },
  {
   "cell_type": "code",
   "execution_count": 122,
   "metadata": {},
   "outputs": [],
   "source": [
    "class ClassifierPerceptron(cl.Classifier):\n",
    "    \"\"\" Perceptron de Rosenblatt\n",
    "    \"\"\"\n",
    "    def __init__(self,input_dimension,learning_rate):\n",
    "        \"\"\" Argument:\n",
    "                - intput_dimension (int) : dimension d'entrée des exemples\n",
    "                - learning_rate :\n",
    "            Hypothèse : input_dimension > 0\n",
    "        \"\"\"\n",
    "        self.input_dimension=input_dimension\n",
    "        self.w=np.zeros(input_dimension)\n",
    "        self.learning_rate = learning_rate\n",
    "\n",
    "    def predict(self,x):\n",
    "        \"\"\" rend la prediction sur x (-1 ou +1)\n",
    "        \"\"\"\n",
    "        z = np.dot(x, self.w)\n",
    "        if(z>=0):\n",
    "            return 1\n",
    "        else:\n",
    "            return -1\n",
    "    \n",
    "    def train(self,labeledSet):\n",
    "        \"\"\" Permet d'entrainer le modele sur l'ensemble donné\n",
    "        \"\"\"\n",
    "        indice=np.arange(labeledSet.size())\n",
    "        random.shuffle(indice)\n",
    "        accuracies=[]\n",
    "        loss=0\n",
    "        for i in indice :\n",
    "            x=labeledSet.getX(i)\n",
    "            y=labeledSet.getY(i)\n",
    "            f=np.dot(x,self.w)\n",
    "            if(f*y <= 0):\n",
    "                amelior= x*(y*self.learning_rate)\n",
    "                self.w=self.w+amelior\n",
    "                accuracies.append(self.accuracy(labeledSet))\n",
    "            loss+=(y-f)**2\n",
    "        return accuracies,loss\n",
    "    def getW(self):\n",
    "        return self.w\n",
    "    def accuracy(self, dataset):\n",
    "        acc=0\n",
    "        for i in range (dataset.size()):\n",
    "            if (dataset.getY(i)*self.predict(dataset.getX(i))>=0):\n",
    "                acc+=1;\n",
    "        moy=acc/dataset.size()\n",
    "        return(moy)\n",
    "def test_accuracy_learningrate(train_set,test_set):\n",
    "    x=[]\n",
    "    l=[]\n",
    "    k=20\n",
    "    for j in range(1,k+1):\n",
    "        x.append(j/k)\n",
    "        perceptron = ClassifierPerceptron(train_set.input_dimension,j/k)\n",
    "        perceptron.train(train_set)\n",
    "        l.append(perceptron.accuracy(test_set))\n",
    "    return l,x"
   ]
  },
  {
   "cell_type": "code",
   "execution_count": 223,
   "metadata": {},
   "outputs": [
    {
     "data": {
      "text/plain": [
       "(array([ 1.,  0.,  0.,  0.,  0.,  0.,  0.,  0.,  0.,  2.]),\n",
       " array([ 0. ,  0.1,  0.2,  0.3,  0.4,  0.5,  0.6,  0.7,  0.8,  0.9,  1. ]),\n",
       " <a list of 10 Patch objects>)"
      ]
     },
     "execution_count": 223,
     "metadata": {},
     "output_type": "execute_result"
    },
    {
     "data": {
      "image/png": "[encoded data removed]",
      "text/plain": [
       "<matplotlib.figure.Figure at 0x7f2fbfb41198>"
      ]
     },
     "metadata": {
      "needs_background": "light"
     },
     "output_type": "display_data"
    }
   ],
   "source": [
    "for i in range(test_set_user.size()-1):\n",
    "    just=1\n",
    "    faux=1\n",
    "    if(perceptron.predict(test_set_user.getX(i))==test_set_user.getY(i)[0]):\n",
    "        just+=1\n",
    "    else:\n",
    "        faux+=1\n",
    "data=[\"Bonnes prédictions\"]*int(just)+[\"Mauvaises prédictions\"]*int(faux)\n",
    "plt.hist(data, range = (0, 1), color = 'yellow',\n",
    "            edgecolor = 'red')"
   ]
  },
  {
   "cell_type": "code",
   "execution_count": null,
   "metadata": {},
   "outputs": [],
   "source": []
  },
  {
   "cell_type": "markdown",
   "metadata": {},
   "source": [
    "#### Accuracy en fonction du learning rate:"
   ]
  },
  {
   "cell_type": "code",
   "execution_count": 97,
   "metadata": {},
   "outputs": [
    {
     "data": {
      "image/png": "[encoded data removed]",
      "text/plain": [
       "<matplotlib.figure.Figure at 0x7f2fc98def28>"
      ]
     },
     "metadata": {
      "needs_background": "light"
     },
     "output_type": "display_data"
    }
   ],
   "source": [
    "l,x=test_accuracy_learningrate(train_set_user,test_set_user)\n",
    "plt.title(\"Variation de l'accuracy en fonction du learning rate\")\n",
    "plt.xlabel('Variation du learning rate')\n",
    "plt.ylabel('Accuracy')\n",
    "plt.plot(x,l)\n",
    "plt.show()"
   ]
  },
  {
   "cell_type": "markdown",
   "metadata": {},
   "source": [
    "##### Variation du vecteur W :"
   ]
  },
  {
   "cell_type": "code",
   "execution_count": 90,
   "metadata": {},
   "outputs": [
    {
     "data": {
      "image/png": "[encoded data removed]",
      "text/plain": [
       "<matplotlib.figure.Figure at 0x7f2fc99765c0>"
      ]
     },
     "metadata": {
      "needs_background": "light"
     },
     "output_type": "display_data"
    }
   ],
   "source": [
    "N=10\n",
    "e=0.06\n",
    "les_wX=[]\n",
    "les_wY=[]\n",
    "perceptron = ClassifierPerceptron(train_set_user.input_dimension,e)\n",
    "\n",
    "for i in range(N):\n",
    "    perceptron.train(train_set_user)\n",
    "    les_wX.append(perceptron.getW()[0])\n",
    "    les_wY.append(perceptron.getW()[1])\n",
    "plt.title(\"Variation du vecteur W\")\n",
    "plt.xlabel('Variation de X')\n",
    "plt.ylabel('Variation de Y')\n",
    "plt.plot(les_wX,les_wY)\n",
    "plt.show()"
   ]
  },
  {
   "cell_type": "markdown",
   "metadata": {},
   "source": [
    "Le premier graphe représente les valeurs de W qui change aléatoirement selon les indices choisi (on rajoute à w des valeurs parfois positives et parfois négatives)\n",
    "Par rapport à l'accuracy : elle ne baisse pas. En fait, elle augmente car on apprend donc elle s'améliore, mais ça ne l'empeche pas de diminuer pour des valeurs des pivots de w qui malclasse les anciénnes valeurs    "
   ]
  },
  {
   "cell_type": "code",
   "execution_count": 110,
   "metadata": {},
   "outputs": [
    {
     "data": {
      "image/png": "[encoded data removed]",
      "text/plain": [
       "<matplotlib.figure.Figure at 0x7f2fbfbbfcc0>"
      ]
     },
     "metadata": {
      "needs_background": "light"
     },
     "output_type": "display_data"
    }
   ],
   "source": [
    "accu=[]\n",
    "x=[]\n",
    "perceptron = ClassifierPerceptron(train_set_user.input_dimension,0.06)\n",
    "for i in range(10,60,5):\n",
    "    x.append(i)\n",
    "    train_set_user,test_set_user=split(i,user_ratingPredic_base)\n",
    "    perceptron.train(train_set_user)\n",
    "    accu.append(perceptron.accuracy(test_set_user))\n",
    "plt.title(\"Variation de l'accuracy en fonction du pourcentage de la taille du train\")\n",
    "plt.xlabel('Taille du train')\n",
    "plt.ylabel('Accuracy')\n",
    "plt.plot(x,accu)\n",
    "plt.show()"
   ]
  },
  {
   "cell_type": "markdown",
   "metadata": {},
   "source": [
    "L'accuraccy varie entre 0.48 et 0.51 elle est donc moyenne "
   ]
  },
  {
   "cell_type": "code",
   "execution_count": 227,
   "metadata": {},
   "outputs": [],
   "source": [
    "train_set_user,test_set_user=split(70,user_ratingPredic_base)\n",
    "perceptron = ClassifierPerceptron(train_set_user.input_dimension,0.06)\n",
    "accuracies,loss=perceptron.train(train_set_user)\n"
   ]
  },
  {
   "cell_type": "code",
   "execution_count": 228,
   "metadata": {},
   "outputs": [
    {
     "data": {
      "image/png": "[encoded data removed]",
      "text/plain": [
       "<matplotlib.figure.Figure at 0x7f2fbff9d7f0>"
      ]
     },
     "metadata": {
      "needs_background": "light"
     },
     "output_type": "display_data"
    }
   ],
   "source": [
    "plt.title(\"Variation des accuracy \")\n",
    "plt.xlabel('Iterations')\n",
    "plt.ylabel('Accuracy')\n",
    "plt.plot(accuracies)\n",
    "plt.show()"
   ]
  },
  {
   "cell_type": "markdown",
   "metadata": {},
   "source": [
    "##### Loss :"
   ]
  },
  {
   "cell_type": "code",
   "execution_count": 146,
   "metadata": {},
   "outputs": [
    {
     "data": {
      "image/png": "[encoded data removed]",
      "text/plain": [
       "<matplotlib.figure.Figure at 0x7f2fbfb9a748>"
      ]
     },
     "metadata": {
      "needs_background": "light"
     },
     "output_type": "display_data"
    }
   ],
   "source": [
    "accu=[]\n",
    "perceptron = ClassifierPerceptron(train_set_user.input_dimension,0.06)\n",
    "train_set_user,test_set_user=split(70,user_ratingPredic_base)\n",
    "for i in range(100):\n",
    "    \n",
    "    a,l=perceptron.train(train_set_user)\n",
    "    accu.append(l)\n",
    "plt.title(\"Variation de loss du Perceptron \")\n",
    "plt.xlabel('Iterations')\n",
    "plt.ylabel('Loss')\n",
    "plt.plot(accu)\n",
    "plt.show()"
   ]
  },
  {
   "cell_type": "markdown",
   "metadata": {},
   "source": [
    "#### 4. classifieur Perceptron GradientBatch :"
   ]
  },
  {
   "cell_type": "code",
   "execution_count": 192,
   "metadata": {},
   "outputs": [],
   "source": [
    "class ClassifierGradientBatch(cl.Classifier):\n",
    "    \"\"\" Perceptron de Rosenblatt\n",
    "    \"\"\"\n",
    "    def __init__(self,input_dimension,learning_rate):\n",
    "        \"\"\" Argument:\n",
    "                - intput_dimension (int) : dimension d'entrée des exemples\n",
    "                - learning_rate :\n",
    "            Hypothèse : input_dimension > 0\n",
    "        \"\"\"\n",
    "        self.input_dimension=input_dimension\n",
    "        self.w=np.zeros(input_dimension)\n",
    "        self.learning_rate = learning_rate\n",
    "\n",
    "    def predict(self,x):\n",
    "        \"\"\" rend la prediction sur x (-1 ou +1)\n",
    "        \"\"\"\n",
    "        z = np.dot(x, self.w)\n",
    "        if(z>=0):\n",
    "            return 1\n",
    "        else:\n",
    "            return -1\n",
    "    \n",
    "    \n",
    "    def train(self,labeledSet):\n",
    "        \"\"\" Permet d'entrainer le modele sur l'ensemble donné\n",
    "        \"\"\"\n",
    "        indice=np.arange(labeledSet.size())\n",
    "        random.shuffle(indice)\n",
    "        gradient=0\n",
    "        loss=0\n",
    "        for i in indice :\n",
    "            x=labeledSet.getX(i)\n",
    "            y=labeledSet.getY(i)\n",
    "            f=np.dot(self.w,x)\n",
    "            gradient+=(y-f)*x  \n",
    "           \n",
    "            loss+=(y-f)**2\n",
    "        \n",
    "        self.w=self.w+self.learning_rate*gradient\n",
    "        return loss\n",
    "    def getW(self):\n",
    "        return self.w"
   ]
  },
  {
   "cell_type": "code",
   "execution_count": 195,
   "metadata": {},
   "outputs": [
    {
     "data": {
      "image/png": "[encoded data removed]",
      "text/plain": [
       "<matplotlib.figure.Figure at 0x7f2fbdb8b128>"
      ]
     },
     "metadata": {
      "needs_background": "light"
     },
     "output_type": "display_data"
    }
   ],
   "source": [
    "N=20\n",
    "e=0.06\n",
    "train_set_user,test_set_user=split(30,user_ratingPredic_base)\n",
    "GB = ClassifierGradientBatch(train_set_user.input_dimension,e/40)\n",
    "l=[]\n",
    "for i in range(N):\n",
    "    loss=GB.train(user_ratingPredic_base)\n",
    "    l.append(loss)\n",
    "\n",
    "plt.title(\"Variation de loss du classifier GradientBatch \")\n",
    "plt.xlabel('Iterations')\n",
    "plt.ylabel('Loss')\n",
    "plt.plot(l)\n",
    "plt.show()"
   ]
  },
  {
   "cell_type": "code",
   "execution_count": 196,
   "metadata": {},
   "outputs": [
    {
     "data": {
      "image/png": "[encoded data removed]",
      "text/plain": [
       "<matplotlib.figure.Figure at 0x7f2fbdd212e8>"
      ]
     },
     "metadata": {
      "needs_background": "light"
     },
     "output_type": "display_data"
    }
   ],
   "source": [
    "N=20\n",
    "e=0.06\n",
    "train_set_user,test_set_user=split(30,user_ratingPredic_base)\n",
    "GB = ClassifierGradientBatch(train_set_user.input_dimension,e/40)\n",
    "l=[]\n",
    "for i in range(N):\n",
    "    l.append(GB.accuracy(train_set_user))\n",
    "\n",
    "plt.title(\"Variation de loss du classifier GradientBatch \")\n",
    "plt.xlabel('Iterations')\n",
    "plt.ylabel('Loss')\n",
    "plt.plot(l)\n",
    "plt.show()"
   ]
  },
  {
   "cell_type": "markdown",
   "metadata": {},
   "source": [
    "**OBSERVATION** On constate que l'accuracy des deux algorithmes de Perceptron est moyenne en general comparé à celle du KNN qui donne de bien meilleurs résultats \n",
    "Elle varie d'une façon differente :\n",
    "-Pour le perceptron : ça dépend de l'execution, elle ne peut pas se stabiliser à une valeur. Et selon l'ordre des points visités, l'accuracy finale peut etre la meilleure, la pire, ou moyenne.\n",
    "-Le batch : est une valeur stable car on ne change w qu'une seule fois à la fin."
   ]
  },
  {
   "cell_type": "markdown",
   "metadata": {},
   "source": [
    "## Clustering :"
   ]
  },
  {
   "cell_type": "markdown",
   "metadata": {},
   "source": [
    "### calssification des acteurs "
   ]
  },
  {
   "cell_type": "markdown",
   "metadata": {},
   "source": [
    "Dans ce qui suit, on va essayer de classifier les acteurs sans aucune supervision. L'algorithme va donc tenter de trouver des caractéristiques communes entre les acteurs.\n",
    "Pour cela, on utilise une base de données qui contient l'ensemble des acteurs sur les lignes, l'ensemble des catégories sur les colonnes et qui, pour chaque acteur, donne le nombre de films de cette catégorie dont il a participé, bien évidemment on utilise les bases déjà construites."
   ]
  },
  {
   "cell_type": "markdown",
   "metadata": {},
   "source": [
    "#### Préparation des données:"
   ]
  },
  {
   "cell_type": "code",
   "execution_count": 95,
   "metadata": {},
   "outputs": [],
   "source": [
    "l=[]\n",
    "for v in actors_categorie.values():\n",
    "    l.append(list(v))\n",
    "data_cat =pd.DataFrame(l)\n",
    "df=data_cat.head(2)\n"
   ]
  },
  {
   "cell_type": "markdown",
   "metadata": {},
   "source": [
    "#### Classifieur hierarchique  "
   ]
  },
  {
   "cell_type": "code",
   "execution_count": 121,
   "metadata": {},
   "outputs": [],
   "source": [
    "import random\n",
    "def normalisation(df):\n",
    "    col=df.columns\n",
    "    result=df\n",
    "    for i in range(len(col)):\n",
    "        colonne= df[col[i]]\n",
    "        max_X=max(colonne)\n",
    "        min_X=min(colonne)\n",
    "        for j in range(len(colonne)):\n",
    "            x=colonne[j]\n",
    "            if((max_X-min_X)!=0):\n",
    "                result[col[i]][j]=((x-min_X)/(max_X-min_X))\n",
    "    return result\n",
    "\n",
    "def dist_vect(X,Y):\n",
    "    return math.sqrt(sum((X-Y)**2))\n",
    "\n",
    "def centroide (df):  \n",
    "    if(isinstance(df.iloc[0],float)):\n",
    "        return df \n",
    "    else:\n",
    "        return df.mean(axis = 0)\n",
    "def inertie_cluster(df):\n",
    "    c=centroide(df)\n",
    "    som=0\n",
    "    for i in range(len(df)):\n",
    "        x=df.iloc[i]\n",
    "        som+=dist_vect(x,c)**2\n",
    "    return som\n",
    "def initialisation(K,df): \n",
    "    m=[]\n",
    "    l=list(df.index.values)\n",
    "    while(len(m)<K):\n",
    "        i=random.choice(l)\n",
    "        m.append(df.loc[i])\n",
    "        l.remove(i)\n",
    "    return pd.DataFrame(m)\n",
    "def plus_proche(x,df_C):\n",
    "    dis=10000000\n",
    "    centre=None\n",
    "    for i in range(len(df_C)):\n",
    "        c=df_C.iloc[i]\n",
    "        d=dist_vect(x,c)\n",
    "        if(dis>d):\n",
    "            dis=d\n",
    "            centre=i\n",
    "    return centre\n",
    "def affecte_cluster(df_app, df_C):\n",
    "    d={}\n",
    "    l=df_app.index.values\n",
    "    for i in l:\n",
    "        x=df_app.loc[i]\n",
    "        c= plus_proche(x,df_C)\n",
    "        if(not c in d.keys()):\n",
    "            d[c]=[]\n",
    "        d[c].append(i)\n",
    "    return d\n",
    "def nouveaux_centroides(df_app,d):\n",
    "    m=[]\n",
    "    for l in d.values():\n",
    "        X=[]\n",
    "        for i in l:\n",
    "            X.append(df_app.loc[i])\n",
    "        m.append(centroide(pd.DataFrame(X)))   \n",
    "    return pd.DataFrame(m)\n",
    "def inertie_globale(df_app,d):\n",
    "    sum=0\n",
    "    for l in d.values():\n",
    "        X=[]\n",
    "        for i in l:\n",
    "            X.append(df_app.loc[i])\n",
    "        sum+=inertie_cluster(pd.DataFrame(X))\n",
    "    return sum\n",
    "def kmoyennes(K,df_app,eps,iter_max):\n",
    "    i=0\n",
    "    fin=False\n",
    "    partition=initialisation(K,df_app)\n",
    "    dic=affecte_cluster(df_app, partition)\n",
    "    inertie=inertie_globale(df_app,dic)\n",
    "    \n",
    "    while(i<iter_max and fin==False):\n",
    "        partition=nouveaux_centroides(df_app,dic)\n",
    "        dic=affecte_cluster(df_app, partition)\n",
    "        inertie_suiv=inertie_globale(df_app,dic)\n",
    "        if(abs(inertie_suiv-inertie) < eps):\n",
    "            fin=True\n",
    "        i+=1\n",
    "        inertie=inertie_suiv\n",
    "    return partition,dic"
   ]
  },
  {
   "cell_type": "code",
   "execution_count": 123,
   "metadata": {},
   "outputs": [
    {
     "name": "stdout",
     "output_type": "stream",
     "text": [
      "Affichage des centres:           0         1         2          3         4         5          6   \\\n",
      "0  3.533835  1.406015  2.669173  18.872180  2.330827  6.248120  11.834586   \n",
      "1  2.377778  1.672222  2.466667  10.411111  1.727778  2.566667   4.327778   \n",
      "2  0.680525  0.291028  0.619256   3.295405  0.442013  0.919037   1.280088   \n",
      "3  2.108696  0.279503  0.639752   6.003106  1.040373  3.537267  12.183230   \n",
      "4  0.090648  0.024096  0.082042   0.347676  0.057372  0.231784   0.488239   \n",
      "5  0.341812  0.022258  0.052464   0.432432  0.092210  0.122417   0.538951   \n",
      "6  0.722348  0.067720  0.291196   3.426637  0.449210  2.130926   6.534989   \n",
      "7  3.448276  0.779310  1.179310  10.496552  1.910345  5.303448  20.924138   \n",
      "8  0.334722  0.022222  0.108333   1.047222  0.175000  0.812500   2.770833   \n",
      "9  1.982456  0.175439  0.311404   2.842105  0.684211  1.078947   4.070175   \n",
      "\n",
      "         7         8         9         10        11        12        13  \\\n",
      "0  3.917293  3.511278  4.000000  1.157895  1.406015  2.045113  0.533835   \n",
      "1  2.127778  1.538889  1.677778  0.838889  0.577778  1.477778  0.338889   \n",
      "2  0.625821  0.415755  0.494530  0.321663  0.166302  0.407002  0.067834   \n",
      "3  3.866460  3.490683  4.931677  1.232919  1.400621  1.559006  0.276398   \n",
      "4  0.063683  0.098680  0.060815  0.055651  0.048766  0.046472  0.022375   \n",
      "5  0.945946  0.575517  1.101749  0.343402  0.233704  0.542130  0.028617   \n",
      "6  1.227991  1.474041  1.959368  0.683973  0.571106  0.591422  0.103837   \n",
      "7  6.496552  6.675862  9.013793  1.848276  2.372414  2.689655  0.455172   \n",
      "8  0.601389  0.683333  0.765278  0.237500  0.266667  0.244444  0.043056   \n",
      "9  4.710526  2.627193  3.964912  1.587719  0.736842  1.850877  0.258772   \n",
      "\n",
      "         14        15        16        17        18        19  \n",
      "0  0.526316  0.654135  0.879699  0.413534  0.157895  0.030075  \n",
      "1  0.194444  0.222222  0.588889  0.200000  0.094444  0.016667  \n",
      "2  0.078775  0.072210  0.223195  0.048140  0.024070  0.006565  \n",
      "3  0.201863  0.996894  0.385093  0.465839  0.186335  0.037267  \n",
      "4  0.061388  0.052209  0.014343  0.016064  0.011474  0.002295  \n",
      "5  0.009539  0.052464  0.019078  0.030207  0.015898  0.004769  \n",
      "6  0.119639  0.435666  0.227991  0.169300  0.083521  0.011287  \n",
      "7  0.496552  1.606897  0.717241  0.910345  0.372414  0.082759  \n",
      "8  0.050000  0.250000  0.072222  0.061111  0.047222  0.011111  \n",
      "9  0.109649  0.403509  0.100877  0.298246  0.118421  0.008772  \n",
      "Affichage des affectations:  {0: [0, 4, 9, 39, 41, 45, 71, 72, 75, 77, 92, 93, 102, 125, 169, 178, 260, 300, 308, 309, 326, 416, 422, 432, 435, 450, 455, 470, 487, 504, 510, 539, 593, 600, 601, 604, 799, 851, 852, 890, 893, 895, 917, 943, 990, 1000, 1094, 1102, 1136, 1201, 1253, 1285, 1291, 1313, 1328, 1394, 1396, 1397, 1443, 1458, 1500, 1532, 1564, 1601, 1611, 1716, 1723, 1724, 1757, 1758, 1773, 1794, 1966, 2030, 2037, 2039, 2042, 2046, 2063, 2187, 2191, 2337, 2461, 2549, 2550, 2564, 2610, 2619, 2718, 2777, 2955, 3003, 3097, 3458, 3473, 3574, 3641, 3645, 3660, 3744, 3766, 3826, 4033, 4038, 4106, 4226, 4430, 4462, 4471, 4486, 4496, 4506, 4695, 4698, 4769, 4825], 1: [1, 2, 3, 5, 6, 13, 14, 19, 24, 31, 32, 33, 36, 43, 73, 89, 94, 97, 175, 276, 277, 279, 281, 302, 305, 315, 325, 341, 343, 375, 421, 448, 477, 478, 491, 594, 596, 599, 701, 775, 794, 836, 837, 849, 854, 887, 944, 946, 950, 1006, 1057, 1063, 1074, 1078, 1112, 1140, 1163, 1168, 1170, 1182, 1195, 1198, 1202, 1210, 1229, 1230, 1237, 1266, 1267, 1269, 1274, 1280, 1393, 1398, 1399, 1487, 1512, 1526, 1529, 1534, 1545, 1546, 1548, 1551, 1563, 1625, 1657, 1661, 1714, 1766, 1772, 1776, 1779, 1781, 1783, 1814, 1938, 2060, 2140, 2186, 2189, 2262, 2263, 2269, 2276, 2324, 2347, 2380, 2414, 2468, 2497, 2552, 2560, 2614, 2621, 2622, 2625, 2630, 2638, 2726, 2826, 2832, 2833, 2867, 2956, 2957, 2958, 2967, 2968, 2970, 2972, 2995, 3064, 3070, 3071, 3096, 3192, 3199, 3208, 3338, 3402, 3410, 3422, 3461, 3544, 3597, 3765, 3804, 3816, 3828, 3829, 3853, 3918, 3920, 3921, 3993, 3997, 4009, 4010, 4011, 4035, 4080, 4194, 4405, 4431, 4433, 4435, 4472, 4474, 4483, 4489, 4498, 4532, 4592, 4645, 4701, 4772, 4829, 4837, 4841, 4842, 4947, 4948, 4950], 2: [7, 8, 12, 17, 29, 30, 34, 37, 38, 58, 95, 96, 100, 103, 115, 124, 128, 133, 135, 150, 151, 163, 171, 181, 185, 190, 201, 214, 227, 230, 248, 255, 267, 268, 269, 271, 272, 278, 280, 284, 285, 287, 288, 289, 290, 293, 296, 303, 306, 333, 351, 368, 370, 425, 438, 442, 445, 461, 467, 481, 483, 494, 495, 498, 526, 556, 566, 579, 583, 602, 635, 643, 714, 718, 743, 766, 768, 770, 773, 776, 838, 839, 840, 850, 856, 860, 862, 866, 868, 869, 875, 876, 902, 923, 932, 948, 954, 969, 1028, 1031, 1033, 1058, 1061, 1062, 1064, 1098, 1119, 1133, 1194, 1196, 1197, 1203, 1204, 1205, 1207, 1220, 1236, 1242, 1245, 1260, 1261, 1275, 1279, 1293, 1302, 1324, 1326, 1333, 1336, 1338, 1340, 1361, 1367, 1377, 1378, 1379, 1395, 1426, 1446, 1466, 1468, 1490, 1491, 1503, 1521, 1531, 1535, 1536, 1537, 1540, 1541, 1542, 1562, 1575, 1584, 1599, 1613, 1659, 1676, 1683, 1713, 1725, 1727, 1728, 1729, 1732, 1734, 1736, 1739, 1747, 1753, 1756, 1762, 1764, 1774, 1777, 1780, 1790, 1791, 1792, 1815, 1816, 1817, 1818, 1823, 1824, 1825, 1826, 1831, 1835, 1859, 1861, 1870, 1874, 1962, 1971, 1991, 1994, 1995, 1997, 2004, 2007, 2024, 2027, 2033, 2035, 2045, 2049, 2059, 2061, 2062, 2144, 2156, 2165, 2168, 2192, 2202, 2255, 2266, 2267, 2268, 2271, 2280, 2308, 2310, 2327, 2330, 2348, 2349, 2353, 2355, 2384, 2390, 2417, 2438, 2443, 2451, 2482, 2486, 2490, 2543, 2554, 2556, 2561, 2562, 2600, 2602, 2611, 2615, 2618, 2624, 2626, 2631, 2644, 2720, 2721, 2741, 2744, 2791, 2799, 2853, 2866, 2882, 2965, 2969, 2971, 2999, 3000, 3008, 3009, 3020, 3022, 3024, 3027, 3029, 3066, 3072, 3075, 3077, 3078, 3092, 3147, 3149, 3156, 3158, 3162, 3165, 3202, 3218, 3223, 3241, 3244, 3246, 3248, 3249, 3252, 3292, 3325, 3383, 3388, 3390, 3400, 3405, 3423, 3432, 3440, 3453, 3542, 3543, 3551, 3552, 3560, 3585, 3600, 3622, 3646, 3650, 3651, 3656, 3659, 3667, 3723, 3742, 3746, 3759, 3760, 3761, 3762, 3764, 3767, 3768, 3770, 3772, 3775, 3777, 3778, 3781, 3793, 3798, 3803, 3813, 3823, 3831, 3832, 3834, 3838, 3840, 3842, 3845, 3850, 3852, 3869, 3870, 3875, 3877, 3891, 3899, 3905, 3908, 3919, 3924, 3928, 3940, 3953, 3991, 3992, 3994, 4001, 4012, 4013, 4034, 4036, 4039, 4081, 4085, 4092, 4096, 4100, 4110, 4144, 4148, 4151, 4189, 4191, 4229, 4274, 4300, 4366, 4409, 4412, 4421, 4427, 4432, 4436, 4438, 4441, 4445, 4452, 4454, 4484, 4485, 4492, 4495, 4502, 4591, 4597, 4613, 4619, 4620, 4672, 4710, 4723, 4736, 4775, 4776, 4781, 4791, 4823, 4832, 4840, 4844, 4880, 4894, 4895, 4908, 4909, 4911, 4946, 4956, 4986, 4999], 3: [10, 74, 76, 79, 80, 83, 85, 101, 111, 112, 113, 114, 116, 120, 126, 144, 168, 184, 226, 234, 237, 238, 241, 242, 244, 245, 254, 258, 273, 301, 312, 316, 318, 321, 330, 335, 336, 344, 345, 353, 382, 414, 415, 418, 434, 440, 449, 454, 456, 457, 459, 471, 474, 480, 488, 489, 490, 505, 506, 511, 547, 560, 569, 586, 590, 592, 597, 603, 609, 634, 671, 680, 699, 709, 769, 787, 795, 797, 801, 834, 841, 855, 880, 884, 889, 891, 898, 899, 907, 910, 911, 913, 915, 919, 925, 938, 940, 941, 945, 947, 949, 983, 984, 988, 993, 994, 996, 1002, 1011, 1016, 1023, 1060, 1075, 1077, 1081, 1095, 1097, 1099, 1100, 1113, 1126, 1161, 1169, 1209, 1218, 1268, 1283, 1292, 1312, 1319, 1322, 1337, 1360, 1362, 1366, 1416, 1417, 1444, 1445, 1457, 1459, 1460, 1499, 1501, 1502, 1518, 1524, 1530, 1549, 1554, 1605, 1618, 1619, 1620, 1626, 1627, 1648, 1651, 1669, 1691, 1698, 1717, 1718, 1760, 1761, 1767, 1775, 1894, 1900, 1937, 1940, 1950, 1993, 2018, 2032, 2036, 2041, 2044, 2067, 2137, 2145, 2163, 2188, 2195, 2198, 2222, 2333, 2336, 2338, 2344, 2403, 2408, 2411, 2426, 2435, 2442, 2445, 2522, 2524, 2526, 2541, 2546, 2566, 2568, 2601, 2603, 2648, 2649, 2715, 2732, 2734, 2774, 2776, 2795, 2800, 2830, 2861, 2864, 2865, 2869, 2870, 2872, 2908, 2915, 2941, 2959, 2963, 2966, 2975, 3011, 3069, 3073, 3095, 3106, 3183, 3186, 3187, 3188, 3189, 3239, 3251, 3296, 3303, 3304, 3305, 3308, 3320, 3355, 3387, 3401, 3412, 3415, 3418, 3431, 3448, 3460, 3462, 3464, 3488, 3513, 3540, 3541, 3555, 3595, 3603, 3608, 3609, 3620, 3733, 3774, 3821, 3822, 3827, 3856, 3857, 3881, 3998, 4040, 4041, 4054, 4190, 4192, 4386, 4448, 4482, 4499, 4535, 4575, 4602, 4616, 4622, 4630, 4696, 4733, 4746, 4784, 4797, 4819, 4831, 4839, 4861, 4891, 4927, 4928, 4937, 4959, 4960, 4992, 4995], 4: [11, 15, 16, 18, 21, 22, 23, 25, 26, 27, 35, 48, 51, 52, 53, 54, 55, 59, 61, 62, 63, 64, 65, 66, 67, 68, 69, 131, 134, 137, 143, 148, 149, 152, 153, 155, 156, 158, 160, 164, 165, 180, 183, 186, 187, 188, 189, 191, 192, 193, 195, 196, 197, 198, 199, 200, 202, 203, 204, 205, 206, 208, 209, 210, 211, 212, 213, 215, 216, 217, 218, 219, 220, 221, 222, 223, 224, 263, 283, 291, 292, 294, 295, 298, 304, 307, 310, 339, 355, 361, 362, 364, 365, 371, 377, 379, 381, 385, 386, 387, 393, 395, 396, 399, 401, 403, 404, 406, 407, 409, 428, 430, 446, 452, 453, 463, 464, 465, 468, 541, 545, 550, 552, 555, 557, 559, 563, 564, 567, 568, 572, 573, 574, 580, 581, 589, 606, 622, 625, 627, 628, 629, 630, 631, 632, 636, 637, 639, 640, 641, 642, 645, 647, 648, 649, 650, 655, 656, 659, 660, 661, 662, 663, 664, 665, 666, 667, 668, 669, 670, 673, 675, 677, 678, 679, 690, 692, 693, 694, 695, 765, 771, 772, 774, 777, 778, 779, 780, 789, 803, 809, 810, 812, 815, 824, 826, 827, 829, 830, 831, 832, 833, 835, 842, 843, 844, 845, 846, 847, 848, 853, 857, 858, 859, 861, 863, 864, 865, 867, 870, 871, 872, 873, 874, 877, 878, 881, 882, 883, 885, 892, 908, 927, 934, 935, 952, 955, 957, 958, 961, 962, 963, 964, 966, 967, 970, 973, 974, 976, 978, 979, 981, 982, 995, 1003, 1005, 1007, 1008, 1015, 1026, 1027, 1029, 1030, 1034, 1035, 1036, 1039, 1040, 1044, 1045, 1046, 1048, 1049, 1051, 1054, 1065, 1066, 1082, 1085, 1107, 1108, 1109, 1110, 1111, 1115, 1116, 1120, 1121, 1122, 1123, 1129, 1130, 1131, 1134, 1142, 1143, 1145, 1146, 1148, 1149, 1150, 1151, 1152, 1153, 1154, 1156, 1157, 1158, 1159, 1162, 1173, 1174, 1178, 1185, 1186, 1187, 1188, 1192, 1193, 1199, 1206, 1213, 1221, 1222, 1223, 1225, 1227, 1228, 1233, 1239, 1256, 1262, 1264, 1265, 1273, 1277, 1278, 1311, 1314, 1318, 1329, 1331, 1332, 1346, 1347, 1348, 1351, 1352, 1353, 1356, 1357, 1358, 1370, 1372, 1375, 1376, 1381, 1382, 1383, 1384, 1385, 1387, 1388, 1390, 1391, 1392, 1402, 1404, 1405, 1407, 1408, 1410, 1411, 1412, 1414, 1421, 1422, 1425, 1428, 1429, 1430, 1435, 1436, 1437, 1438, 1440, 1449, 1451, 1452, 1453, 1454, 1455, 1456, 1467, 1469, 1470, 1472, 1473, 1474, 1475, 1476, 1478, 1479, 1480, 1481, 1482, 1484, 1496, 1498, 1507, 1519, 1527, 1533, 1539, 1543, 1553, 1556, 1557, 1558, 1559, 1560, 1600, 1617, 1628, 1629, 1630, 1632, 1633, 1634, 1635, 1636, 1637, 1638, 1639, 1640, 1641, 1642, 1644, 1645, 1646, 1647, 1660, 1670, 1672, 1674, 1677, 1678, 1680, 1684, 1685, 1686, 1687, 1709, 1710, 1711, 1712, 1715, 1726, 1731, 1737, 1738, 1744, 1746, 1748, 1749, 1750, 1751, 1752, 1754, 1755, 1763, 1778, 1782, 1784, 1785, 1786, 1788, 1793, 1800, 1801, 1803, 1804, 1805, 1807, 1808, 1812, 1813, 1820, 1822, 1827, 1828, 1829, 1830, 1832, 1833, 1834, 1836, 1837, 1838, 1839, 1840, 1842, 1843, 1844, 1845, 1846, 1847, 1848, 1849, 1851, 1852, 1854, 1855, 1856, 1857, 1858, 1860, 1862, 1863, 1864, 1865, 1867, 1868, 1869, 1871, 1878, 1884, 1887, 1888, 1891, 1892, 1893, 1895, 1906, 1911, 1915, 1917, 1921, 1922, 1923, 1925, 1926, 1930, 1933, 1934, 1936, 1979, 1982, 1983, 1984, 1987, 1996, 1999, 2000, 2001, 2008, 2009, 2010, 2012, 2013, 2014, 2015, 2016, 2017, 2023, 2025, 2026, 2048, 2050, 2054, 2055, 2056, 2057, 2065, 2071, 2074, 2075, 2076, 2077, 2080, 2083, 2086, 2087, 2088, 2089, 2090, 2092, 2093, 2094, 2095, 2096, 2097, 2098, 2099, 2100, 2101, 2102, 2103, 2104, 2105, 2106, 2107, 2108, 2109, 2110, 2111, 2112, 2113, 2115, 2116, 2117, 2118, 2119, 2120, 2121, 2122, 2123, 2124, 2125, 2126, 2127, 2128, 2129, 2130, 2131, 2132, 2133, 2134, 2136, 2143, 2146, 2147, 2150, 2151, 2152, 2153, 2154, 2158, 2160, 2161, 2162, 2164, 2167, 2170, 2171, 2172, 2173, 2174, 2175, 2176, 2177, 2178, 2179, 2180, 2181, 2183, 2184, 2185, 2194, 2197, 2200, 2203, 2204, 2205, 2206, 2207, 2208, 2210, 2211, 2212, 2213, 2225, 2227, 2230, 2235, 2236, 2237, 2238, 2239, 2240, 2241, 2242, 2243, 2244, 2245, 2246, 2247, 2248, 2249, 2250, 2251, 2252, 2253, 2254, 2256, 2257, 2258, 2259, 2260, 2261, 2270, 2275, 2277, 2278, 2282, 2283, 2284, 2285, 2286, 2287, 2288, 2289, 2291, 2292, 2293, 2294, 2295, 2296, 2298, 2299, 2300, 2301, 2302, 2303, 2304, 2307, 2309, 2311, 2312, 2314, 2315, 2316, 2319, 2321, 2322, 2325, 2331, 2332, 2334, 2339, 2342, 2356, 2358, 2360, 2361, 2362, 2363, 2364, 2365, 2366, 2367, 2368, 2369, 2370, 2371, 2372, 2375, 2376, 2378, 2379, 2404, 2405, 2407, 2413, 2415, 2416, 2418, 2422, 2423, 2427, 2429, 2432, 2455, 2459, 2460, 2465, 2466, 2467, 2469, 2472, 2474, 2480, 2487, 2488, 2489, 2493, 2496, 2498, 2499, 2500, 2501, 2502, 2503, 2504, 2505, 2506, 2507, 2509, 2510, 2512, 2513, 2516, 2518, 2520, 2521, 2528, 2529, 2533, 2535, 2536, 2537, 2538, 2539, 2540, 2544, 2567, 2573, 2574, 2575, 2577, 2579, 2580, 2582, 2583, 2584, 2585, 2588, 2590, 2591, 2592, 2593, 2594, 2596, 2597, 2598, 2623, 2627, 2628, 2629, 2632, 2633, 2634, 2635, 2636, 2637, 2639, 2640, 2641, 2642, 2645, 2646, 2655, 2656, 2658, 2664, 2668, 2671, 2672, 2674, 2675, 2677, 2678, 2681, 2684, 2685, 2690, 2692, 2694, 2695, 2696, 2698, 2699, 2700, 2701, 2702, 2704, 2705, 2706, 2707, 2708, 2709, 2710, 2711, 2712, 2713, 2714, 2745, 2746, 2747, 2748, 2749, 2750, 2753, 2756, 2757, 2758, 2759, 2760, 2761, 2762, 2763, 2764, 2794, 2796, 2798, 2804, 2811, 2817, 2818, 2964, 2977, 2978, 2979, 2980, 2981, 2982, 2983, 2984, 2985, 2986, 2987, 2988, 2989, 2990, 2991, 2997, 2998, 3004, 3007, 3010, 3012, 3013, 3014, 3015, 3017, 3018, 3019, 3023, 3025, 3026, 3028, 3031, 3035, 3036, 3037, 3040, 3041, 3043, 3044, 3045, 3046, 3047, 3048, 3049, 3050, 3051, 3052, 3053, 3054, 3055, 3056, 3057, 3060, 3061, 3062, 3082, 3085, 3090, 3091, 3099, 3100, 3101, 3102, 3104, 3105, 3108, 3109, 3110, 3111, 3112, 3113, 3115, 3119, 3122, 3124, 3126, 3128, 3129, 3131, 3135, 3136, 3138, 3139, 3140, 3141, 3142, 3143, 3144, 3145, 3146, 3150, 3151, 3152, 3153, 3154, 3155, 3157, 3159, 3160, 3161, 3163, 3166, 3167, 3168, 3169, 3170, 3171, 3172, 3176, 3177, 3179, 3184, 3204, 3205, 3206, 3210, 3212, 3213, 3220, 3224, 3225, 3226, 3228, 3229, 3230, 3232, 3233, 3240, 3254, 3255, 3256, 3258, 3260, 3261, 3262, 3263, 3264, 3265, 3266, 3268, 3269, 3270, 3271, 3273, 3276, 3278, 3279, 3280, 3283, 3285, 3286, 3288, 3289, 3290, 3291, 3294, 3298, 3299, 3300, 3312, 3313, 3314, 3315, 3316, 3318, 3319, 3323, 3324, 3326, 3329, 3333, 3336, 3340, 3341, 3342, 3343, 3344, 3345, 3348, 3349, 3350, 3351, 3352, 3354, 3359, 3369, 3370, 3371, 3372, 3373, 3377, 3378, 3379, 3380, 3381, 3384, 3403, 3404, 3409, 3450, 3456, 3457, 3469, 3470, 3479, 3480, 3482, 3484, 3485, 3492, 3494, 3495, 3496, 3497, 3498, 3499, 3500, 3501, 3502, 3503, 3504, 3505, 3506, 3507, 3508, 3509, 3510, 3511, 3514, 3516, 3517, 3518, 3519, 3520, 3521, 3522, 3523, 3525, 3526, 3527, 3528, 3529, 3530, 3531, 3532, 3533, 3534, 3535, 3536, 3537, 3538, 3545, 3546, 3548, 3549, 3550, 3561, 3562, 3564, 3566, 3567, 3568, 3569, 3570, 3577, 3579, 3581, 3582, 3584, 3586, 3587, 3588, 3589, 3590, 3591, 3592, 3593, 3594, 3598, 3612, 3632, 3633, 3634, 3635, 3636, 3637, 3638, 3639, 3643, 3649, 3652, 3654, 3655, 3657, 3658, 3661, 3662, 3663, 3664, 3666, 3668, 3669, 3670, 3672, 3673, 3674, 3675, 3676, 3677, 3678, 3679, 3680, 3681, 3682, 3683, 3684, 3685, 3686, 3687, 3688, 3689, 3690, 3691, 3692, 3693, 3694, 3695, 3696, 3697, 3699, 3700, 3701, 3702, 3703, 3704, 3705, 3706, 3707, 3708, 3709, 3710, 3711, 3712, 3713, 3714, 3715, 3716, 3717, 3722, 3726, 3727, 3728, 3729, 3730, 3731, 3732, 3736, 3737, 3738, 3739, 3740, 3743, 3747, 3748, 3749, 3750, 3751, 3752, 3754, 3756, 3757, 3763, 3769, 3776, 3780, 3787, 3788, 3792, 3794, 3797, 3802, 3805, 3806, 3810, 3812, 3819, 3833, 3835, 3836, 3837, 3839, 3841, 3843, 3844, 3846, 3847, 3848, 3849, 3851, 3854, 3855, 3859, 3860, 3861, 3863, 3864, 3865, 3866, 3867, 3868, 3871, 3872, 3874, 3878, 3880, 3882, 3883, 3884, 3887, 3892, 3893, 3894, 3895, 3896, 3897, 3900, 3902, 3903, 3904, 3906, 3909, 3910, 3911, 3912, 3913, 3914, 3915, 3916, 3917, 3922, 3923, 3925, 3926, 3927, 3929, 3930, 3931, 3932, 3933, 3934, 3935, 3936, 3937, 3938, 3939, 3941, 3943, 3945, 3954, 3955, 3959, 3960, 3963, 3964, 3965, 3966, 3967, 3968, 3969, 3970, 3971, 3972, 3973, 3974, 3975, 3976, 3977, 3978, 3979, 3980, 3981, 3982, 3983, 3984, 3985, 3986, 3988, 3989, 3990, 3996, 4003, 4006, 4007, 4008, 4015, 4016, 4018, 4019, 4023, 4027, 4029, 4031, 4037, 4042, 4044, 4046, 4049, 4050, 4055, 4057, 4058, 4059, 4063, 4069, 4070, 4071, 4073, 4075, 4076, 4078, 4079, 4084, 4087, 4088, 4089, 4090, 4094, 4095, 4099, 4103, 4104, 4105, 4107, 4108, 4111, 4112, 4113, 4114, 4115, 4116, 4117, 4119, 4120, 4121, 4122, 4123, 4124, 4125, 4126, 4127, 4128, 4129, 4131, 4132, 4133, 4134, 4135, 4136, 4142, 4145, 4150, 4153, 4154, 4155, 4156, 4157, 4158, 4159, 4160, 4161, 4162, 4163, 4164, 4165, 4166, 4167, 4168, 4169, 4170, 4171, 4173, 4175, 4176, 4177, 4178, 4179, 4180, 4182, 4183, 4185, 4186, 4188, 4198, 4199, 4201, 4203, 4206, 4208, 4209, 4210, 4211, 4214, 4215, 4216, 4220, 4222, 4223, 4232, 4235, 4237, 4239, 4240, 4243, 4244, 4245, 4246, 4247, 4248, 4250, 4251, 4252, 4253, 4254, 4255, 4256, 4257, 4258, 4259, 4260, 4261, 4262, 4263, 4264, 4266, 4267, 4268, 4269, 4270, 4271, 4272, 4273, 4275, 4276, 4277, 4278, 4279, 4280, 4281, 4282, 4283, 4284, 4285, 4286, 4287, 4288, 4289, 4290, 4291, 4292, 4293, 4295, 4296, 4297, 4298, 4299, 4302, 4303, 4304, 4305, 4306, 4307, 4308, 4309, 4310, 4311, 4314, 4315, 4316, 4317, 4318, 4319, 4321, 4324, 4327, 4331, 4334, 4335, 4337, 4341, 4342, 4343, 4344, 4345, 4346, 4347, 4348, 4349, 4350, 4351, 4352, 4353, 4354, 4355, 4356, 4357, 4358, 4359, 4361, 4362, 4365, 4367, 4368, 4370, 4373, 4376, 4377, 4378, 4379, 4380, 4383, 4384, 4385, 4388, 4392, 4395, 4398, 4400, 4401, 4402, 4404, 4406, 4407, 4408, 4410, 4411, 4413, 4414, 4415, 4416, 4417, 4418, 4419, 4420, 4422, 4428, 4444, 4456, 4459, 4460, 4464, 4469, 4473, 4476, 4477, 4479, 4480, 4490, 4491, 4503, 4505, 4515, 4517, 4518, 4519, 4520, 4521, 4522, 4523, 4524, 4525, 4526, 4527, 4529, 4533, 4538, 4539, 4540, 4541, 4542, 4543, 4544, 4545, 4546, 4547, 4548, 4550, 4551, 4552, 4553, 4554, 4555, 4558, 4560, 4562, 4567, 4578, 4625, 4627, 4628, 4629, 4633, 4634, 4635, 4636, 4638, 4641, 4642, 4643, 4681, 4682, 4683, 4685, 4686, 4687, 4688, 4690, 4691, 4692, 4693, 4730, 4731, 4734, 4737, 4738, 4739, 4740, 4741, 4742, 4743, 4744, 4770, 4777, 4786, 4796, 4800, 4802, 4803, 4804, 4807, 4808, 4812, 4814, 4815, 4816, 4817, 4818, 4822, 4835, 4836, 4838, 4847, 4848, 4849, 4850, 4851, 4852, 4853, 4854, 4855, 4857, 4859, 4863, 4864, 4867, 4868, 4870, 4875, 4878, 4879, 4881, 4884, 4885, 4890, 4892, 4893, 4897, 4898, 4899, 4901, 4902, 4904, 4905, 4907, 4910, 4912, 4913, 4915, 4917, 4918, 4919, 4920, 4921, 4922, 4924, 4925, 4926, 4930, 4931, 4932, 4933, 4934, 4935, 4951, 4954, 4961, 4963, 4964, 4965, 4966, 4969, 4974, 4976, 4978, 4979, 4980, 4984, 4985, 4994, 4996, 4997, 4998], 5: [20, 28, 42, 47, 60, 132, 138, 140, 207, 235, 239, 250, 251, 252, 257, 274, 337, 357, 359, 363, 367, 392, 402, 451, 466, 469, 492, 497, 499, 500, 501, 512, 513, 514, 515, 516, 517, 518, 523, 529, 530, 531, 532, 533, 534, 535, 536, 651, 652, 653, 654, 657, 658, 687, 688, 706, 707, 708, 710, 711, 712, 713, 715, 716, 719, 720, 723, 724, 725, 726, 727, 728, 729, 730, 731, 732, 733, 734, 736, 737, 738, 739, 740, 741, 742, 744, 746, 747, 748, 749, 750, 751, 752, 753, 754, 755, 756, 757, 758, 759, 764, 781, 791, 800, 813, 817, 819, 888, 903, 916, 933, 936, 937, 956, 968, 971, 975, 1019, 1024, 1025, 1032, 1037, 1042, 1047, 1050, 1053, 1079, 1087, 1088, 1089, 1090, 1092, 1118, 1160, 1177, 1180, 1200, 1214, 1219, 1224, 1226, 1231, 1243, 1244, 1246, 1247, 1248, 1250, 1252, 1255, 1284, 1289, 1294, 1295, 1297, 1298, 1300, 1303, 1304, 1305, 1306, 1307, 1308, 1309, 1400, 1401, 1403, 1420, 1439, 1448, 1505, 1517, 1565, 1567, 1568, 1570, 1573, 1576, 1577, 1578, 1579, 1581, 1582, 1583, 1585, 1586, 1587, 1588, 1590, 1591, 1592, 1594, 1595, 1631, 1649, 1653, 1673, 1675, 1689, 1701, 1702, 1704, 1705, 1706, 1707, 1730, 1740, 1741, 1768, 1769, 1770, 1771, 1789, 1802, 1841, 1853, 1927, 1941, 1943, 1946, 1947, 1951, 1952, 1955, 1956, 1959, 1960, 1965, 1968, 1970, 1972, 1973, 1974, 1989, 2019, 2020, 2022, 2114, 2135, 2148, 2155, 2166, 2169, 2190, 2220, 2223, 2226, 2228, 2229, 2232, 2233, 2234, 2272, 2273, 2279, 2281, 2290, 2313, 2317, 2318, 2320, 2323, 2343, 2351, 2385, 2387, 2388, 2389, 2392, 2393, 2394, 2396, 2398, 2400, 2401, 2402, 2406, 2410, 2440, 2444, 2449, 2453, 2485, 2494, 2495, 2514, 2551, 2555, 2558, 2563, 2595, 2660, 2682, 2683, 2703, 2717, 2719, 2724, 2725, 2727, 2728, 2730, 2731, 2754, 2755, 2765, 2772, 2778, 2779, 2780, 2781, 2785, 2786, 2787, 2789, 2797, 2838, 2839, 2840, 2841, 2842, 2843, 2844, 2846, 2847, 2848, 2849, 2850, 2852, 2854, 2855, 2856, 2857, 2858, 2859, 2860, 2878, 2879, 2880, 2881, 2883, 2884, 2885, 2886, 2887, 2888, 2889, 2890, 2891, 2892, 2893, 2894, 2895, 2896, 2897, 2898, 2899, 2900, 2901, 2902, 2903, 2904, 2905, 2906, 2911, 2914, 2916, 2921, 2922, 2923, 2924, 2925, 2927, 2928, 2929, 2930, 2931, 2932, 2933, 2934, 2935, 2936, 2937, 2938, 2939, 2943, 2944, 2945, 2946, 2947, 2948, 2949, 2950, 2951, 2952, 2953, 2960, 2962, 2996, 3002, 3005, 3016, 3021, 3034, 3039, 3079, 3081, 3083, 3084, 3086, 3087, 3089, 3093, 3094, 3103, 3107, 3123, 3130, 3132, 3134, 3137, 3185, 3194, 3195, 3197, 3198, 3257, 3267, 3272, 3274, 3275, 3277, 3281, 3282, 3284, 3309, 3335, 3337, 3346, 3347, 3353, 3361, 3363, 3397, 3399, 3420, 3421, 3424, 3427, 3429, 3430, 3434, 3436, 3437, 3438, 3441, 3442, 3443, 3444, 3445, 3446, 3468, 3477, 3547, 3557, 3558, 3571, 3606, 3614, 3615, 3617, 3621, 3624, 3625, 3626, 3629, 3665, 3671, 3758, 3811, 3825, 3858, 3862, 3873, 3885, 3890, 3944, 3950, 3951, 3961, 3987, 4022, 4025, 4026, 4064, 4067, 4068, 4086, 4093, 4098, 4101, 4109, 4118, 4130, 4139, 4140, 4147, 4152, 4172, 4174, 4181, 4184, 4187, 4193, 4221, 4227, 4228, 4234, 4236, 4238, 4242, 4265, 4294, 4312, 4313, 4322, 4328, 4336, 4338, 4339, 4363, 4394, 4403, 4488, 4511, 4512, 4513, 4561, 4563, 4568, 4569, 4570, 4571, 4572, 4579, 4580, 4581, 4582, 4583, 4584, 4585, 4586, 4587, 4588, 4595, 4599, 4600, 4603, 4606, 4607, 4608, 4609, 4611, 4612, 4614, 4615, 4617, 4621, 4640, 4648, 4649, 4650, 4651, 4654, 4655, 4656, 4657, 4659, 4661, 4662, 4666, 4669, 4670, 4674, 4675, 4676, 4677, 4678, 4679, 4680, 4703, 4704, 4705, 4706, 4707, 4708, 4711, 4712, 4713, 4714, 4716, 4718, 4719, 4721, 4722, 4724, 4725, 4726, 4728, 4729, 4747, 4748, 4751, 4752, 4753, 4754, 4755, 4757, 4758, 4759, 4761, 4762, 4763, 4845, 4886, 4887, 4889, 4906, 4929, 4938, 4941, 4944, 4945, 4955, 4962, 4967, 4968, 4971, 4977, 4981, 4982, 4983], 6: [40, 44, 49, 81, 82, 88, 98, 99, 109, 110, 122, 136, 162, 172, 174, 176, 225, 228, 243, 259, 264, 270, 282, 314, 323, 324, 328, 329, 331, 332, 340, 342, 347, 366, 376, 378, 380, 410, 423, 426, 427, 433, 443, 444, 460, 472, 479, 507, 508, 527, 537, 542, 548, 553, 554, 558, 588, 595, 611, 614, 615, 619, 621, 633, 638, 644, 646, 681, 682, 683, 684, 700, 703, 704, 705, 760, 761, 762, 784, 785, 786, 805, 806, 811, 825, 894, 896, 897, 900, 901, 904, 914, 920, 922, 924, 942, 953, 972, 977, 985, 986, 989, 991, 992, 998, 999, 1070, 1071, 1072, 1076, 1084, 1086, 1091, 1125, 1127, 1137, 1138, 1155, 1167, 1191, 1208, 1212, 1216, 1217, 1235, 1257, 1258, 1259, 1270, 1271, 1272, 1276, 1310, 1317, 1321, 1323, 1330, 1339, 1363, 1364, 1365, 1368, 1374, 1406, 1418, 1419, 1423, 1431, 1432, 1433, 1442, 1462, 1463, 1486, 1492, 1494, 1504, 1509, 1511, 1514, 1516, 1522, 1523, 1538, 1569, 1596, 1597, 1607, 1608, 1610, 1614, 1615, 1616, 1623, 1624, 1650, 1662, 1663, 1665, 1679, 1690, 1695, 1720, 1722, 1797, 1877, 1880, 1885, 1886, 1898, 1899, 1902, 1904, 1912, 1939, 1944, 1954, 1976, 1981, 1988, 1992, 2005, 2029, 2034, 2043, 2052, 2064, 2069, 2085, 2141, 2142, 2196, 2201, 2306, 2329, 2357, 2374, 2381, 2412, 2420, 2434, 2436, 2437, 2441, 2447, 2457, 2458, 2462, 2471, 2473, 2477, 2478, 2483, 2491, 2532, 2542, 2581, 2586, 2589, 2606, 2613, 2620, 2643, 2652, 2663, 2666, 2676, 2716, 2722, 2737, 2739, 2742, 2751, 2767, 2769, 2788, 2790, 2801, 2803, 2827, 2829, 2831, 2834, 2845, 2868, 2876, 2973, 3001, 3006, 3030, 3038, 3042, 3067, 3118, 3120, 3121, 3148, 3173, 3174, 3181, 3182, 3211, 3215, 3235, 3245, 3259, 3310, 3321, 3322, 3356, 3358, 3362, 3365, 3368, 3375, 3385, 3386, 3392, 3394, 3411, 3414, 3425, 3428, 3447, 3452, 3454, 3455, 3459, 3465, 3475, 3487, 3489, 3491, 3610, 3611, 3630, 3642, 3647, 3724, 3734, 3773, 3779, 3783, 3800, 3824, 3830, 3879, 3888, 3889, 3898, 3907, 3957, 4002, 4004, 4030, 4048, 4052, 4056, 4060, 4062, 4065, 4082, 4091, 4097, 4137, 4138, 4143, 4146, 4149, 4219, 4301, 4325, 4326, 4329, 4330, 4364, 4371, 4391, 4424, 4429, 4434, 4446, 4447, 4450, 4461, 4465, 4466, 4475, 4478, 4481, 4487, 4493, 4497, 4501, 4509, 4514, 4516, 4531, 4534, 4565, 4566, 4573, 4589, 4593, 4596, 4646, 4652, 4665, 4671, 4684, 4697, 4732, 4745, 4749, 4756, 4768, 4771, 4774, 4780, 4782, 4787, 4788, 4789, 4790, 4792, 4795, 4813, 4821, 4826, 4827, 4828, 4830, 4833, 4843, 4846, 4860, 4914, 4949, 4953, 4958, 4988, 4990], 7: [46, 87, 90, 104, 105, 106, 107, 108, 118, 167, 261, 265, 266, 286, 299, 311, 313, 317, 319, 346, 374, 417, 431, 436, 441, 473, 484, 485, 521, 522, 538, 546, 562, 584, 598, 697, 698, 782, 792, 793, 796, 879, 905, 918, 939, 1010, 1012, 1014, 1056, 1073, 1096, 1101, 1124, 1128, 1132, 1139, 1172, 1175, 1184, 1215, 1281, 1282, 1325, 1359, 1415, 1461, 1464, 1515, 1528, 1550, 1602, 1604, 1621, 1745, 1759, 1765, 1795, 1796, 1883, 1949, 1975, 1977, 1980, 2217, 2264, 2265, 2328, 2354, 2383, 2523, 2545, 2587, 2647, 2733, 2766, 2775, 2805, 2806, 2812, 2822, 2828, 2877, 2907, 2910, 2974, 2993, 2994, 3058, 3068, 3180, 3193, 3200, 3201, 3216, 3234, 3236, 3238, 3250, 3295, 3297, 3302, 3382, 3407, 3413, 3512, 3602, 3644, 4051, 4141, 4195, 4340, 4423, 4443, 4449, 4507, 4508, 4510, 4644, 4936, 4989], 8: [50, 57, 78, 86, 123, 127, 129, 130, 139, 142, 145, 146, 154, 157, 159, 161, 177, 179, 182, 194, 229, 236, 249, 262, 275, 297, 320, 322, 334, 338, 352, 356, 358, 360, 369, 372, 383, 384, 388, 389, 390, 391, 394, 398, 400, 405, 408, 411, 412, 413, 419, 420, 424, 429, 439, 447, 458, 475, 482, 496, 503, 519, 520, 543, 549, 551, 561, 565, 570, 575, 577, 578, 582, 585, 587, 591, 605, 607, 608, 610, 612, 613, 616, 617, 618, 620, 623, 624, 626, 672, 674, 676, 685, 686, 689, 691, 702, 717, 721, 722, 735, 745, 763, 783, 788, 790, 798, 802, 804, 808, 814, 816, 818, 820, 821, 822, 823, 828, 886, 909, 926, 951, 959, 960, 965, 980, 987, 1001, 1004, 1009, 1020, 1038, 1052, 1055, 1059, 1067, 1068, 1069, 1104, 1105, 1106, 1114, 1117, 1141, 1144, 1147, 1165, 1166, 1171, 1176, 1179, 1181, 1183, 1189, 1190, 1234, 1251, 1254, 1263, 1315, 1320, 1327, 1334, 1335, 1341, 1342, 1343, 1344, 1345, 1349, 1350, 1354, 1355, 1369, 1371, 1373, 1380, 1386, 1389, 1409, 1413, 1427, 1434, 1441, 1450, 1465, 1471, 1477, 1483, 1485, 1489, 1493, 1495, 1497, 1506, 1508, 1510, 1513, 1520, 1544, 1555, 1561, 1572, 1580, 1589, 1603, 1606, 1609, 1612, 1622, 1643, 1654, 1655, 1656, 1658, 1664, 1666, 1667, 1668, 1681, 1682, 1688, 1693, 1694, 1697, 1699, 1700, 1703, 1719, 1721, 1733, 1735, 1742, 1743, 1798, 1806, 1809, 1810, 1811, 1819, 1821, 1866, 1872, 1873, 1889, 1890, 1896, 1901, 1903, 1905, 1907, 1908, 1909, 1914, 1916, 1918, 1919, 1920, 1924, 1928, 1929, 1931, 1932, 1935, 1942, 1945, 1948, 1953, 1957, 1958, 1961, 1963, 1967, 1986, 1990, 1998, 2002, 2003, 2006, 2011, 2021, 2028, 2031, 2047, 2051, 2058, 2066, 2068, 2070, 2072, 2073, 2078, 2079, 2081, 2082, 2084, 2091, 2139, 2149, 2157, 2182, 2193, 2199, 2209, 2214, 2215, 2216, 2221, 2224, 2297, 2305, 2326, 2335, 2341, 2345, 2346, 2350, 2373, 2377, 2386, 2391, 2395, 2397, 2399, 2419, 2421, 2424, 2425, 2428, 2430, 2431, 2433, 2439, 2448, 2452, 2463, 2470, 2475, 2476, 2479, 2481, 2492, 2508, 2511, 2515, 2517, 2519, 2525, 2527, 2530, 2534, 2553, 2557, 2565, 2569, 2570, 2571, 2572, 2576, 2578, 2599, 2604, 2605, 2607, 2608, 2609, 2617, 2650, 2651, 2653, 2654, 2657, 2659, 2661, 2662, 2667, 2669, 2670, 2673, 2679, 2680, 2686, 2687, 2688, 2689, 2691, 2697, 2735, 2736, 2738, 2740, 2743, 2752, 2768, 2770, 2773, 2782, 2783, 2784, 2792, 2793, 2802, 2809, 2810, 2813, 2814, 2815, 2816, 2819, 2820, 2821, 2823, 2825, 2835, 2837, 2862, 2863, 2913, 2920, 2926, 2942, 2976, 2992, 3032, 3033, 3059, 3063, 3065, 3080, 3098, 3116, 3117, 3125, 3127, 3133, 3164, 3175, 3178, 3191, 3196, 3203, 3207, 3209, 3214, 3219, 3221, 3222, 3227, 3231, 3237, 3242, 3243, 3247, 3253, 3287, 3293, 3301, 3306, 3311, 3317, 3328, 3331, 3334, 3357, 3360, 3366, 3367, 3374, 3376, 3389, 3406, 3408, 3417, 3433, 3435, 3449, 3451, 3463, 3466, 3467, 3471, 3478, 3481, 3483, 3486, 3490, 3493, 3515, 3524, 3556, 3563, 3565, 3572, 3575, 3576, 3578, 3580, 3583, 3596, 3599, 3601, 3604, 3605, 3607, 3616, 3618, 3619, 3623, 3627, 3628, 3640, 3648, 3698, 3718, 3719, 3720, 3721, 3725, 3735, 3741, 3745, 3753, 3755, 3771, 3782, 3784, 3785, 3786, 3789, 3790, 3791, 3795, 3796, 3799, 3801, 3807, 3808, 3809, 3814, 3815, 3817, 3818, 3820, 3876, 3886, 3901, 3942, 3952, 3958, 3962, 3995, 3999, 4000, 4005, 4017, 4021, 4024, 4028, 4032, 4043, 4045, 4047, 4053, 4061, 4066, 4072, 4074, 4077, 4083, 4102, 4196, 4197, 4200, 4202, 4204, 4205, 4207, 4212, 4213, 4217, 4218, 4231, 4249, 4320, 4323, 4332, 4333, 4360, 4369, 4372, 4374, 4375, 4381, 4382, 4387, 4389, 4390, 4393, 4396, 4397, 4399, 4426, 4437, 4439, 4442, 4451, 4453, 4455, 4457, 4458, 4463, 4468, 4470, 4494, 4504, 4528, 4530, 4536, 4537, 4549, 4556, 4557, 4559, 4574, 4576, 4577, 4590, 4594, 4598, 4601, 4604, 4605, 4610, 4618, 4623, 4626, 4631, 4632, 4637, 4647, 4653, 4658, 4660, 4663, 4664, 4667, 4668, 4673, 4689, 4694, 4700, 4702, 4709, 4715, 4717, 4720, 4727, 4735, 4750, 4760, 4764, 4765, 4766, 4767, 4773, 4778, 4779, 4783, 4785, 4793, 4794, 4798, 4799, 4801, 4805, 4806, 4809, 4810, 4811, 4824, 4834, 4856, 4858, 4862, 4865, 4866, 4869, 4871, 4872, 4873, 4874, 4876, 4877, 4896, 4900, 4916, 4923, 4939, 4952, 4970, 4972, 4975, 4987, 4991, 4993], 9: [56, 70, 84, 91, 117, 119, 121, 141, 147, 166, 170, 173, 231, 232, 233, 240, 246, 247, 253, 256, 327, 348, 349, 350, 354, 373, 397, 437, 462, 476, 486, 493, 502, 509, 524, 525, 528, 540, 544, 571, 576, 696, 767, 807, 906, 912, 921, 928, 929, 930, 931, 997, 1013, 1017, 1018, 1021, 1022, 1041, 1043, 1080, 1083, 1093, 1103, 1135, 1164, 1211, 1232, 1238, 1240, 1241, 1249, 1286, 1287, 1288, 1290, 1296, 1299, 1301, 1316, 1424, 1447, 1488, 1525, 1547, 1552, 1566, 1571, 1574, 1593, 1598, 1652, 1671, 1692, 1696, 1708, 1787, 1799, 1850, 1875, 1876, 1879, 1881, 1882, 1897, 1910, 1913, 1964, 1969, 1978, 1985, 2038, 2040, 2053, 2138, 2159, 2218, 2219, 2231, 2274, 2340, 2352, 2359, 2382, 2409, 2446, 2450, 2454, 2456, 2464, 2484, 2531, 2547, 2548, 2559, 2612, 2616, 2665, 2693, 2723, 2729, 2771, 2807, 2808, 2824, 2836, 2851, 2871, 2873, 2874, 2875, 2909, 2912, 2917, 2918, 2919, 2940, 2954, 2961, 3074, 3076, 3088, 3114, 3190, 3217, 3307, 3327, 3330, 3332, 3339, 3364, 3391, 3393, 3395, 3396, 3398, 3416, 3419, 3426, 3439, 3472, 3474, 3476, 3539, 3553, 3554, 3559, 3573, 3613, 3631, 3653, 3946, 3947, 3948, 3949, 3956, 4014, 4020, 4224, 4225, 4230, 4233, 4241, 4425, 4440, 4467, 4500, 4564, 4624, 4639, 4699, 4820, 4882, 4883, 4888, 4903, 4940, 4942, 4943, 4957, 4973]}\n"
     ]
    }
   ],
   "source": [
    "les_centres, l_affectation = kmoyennes(10, data_cat.head(5000), 0.6, 10)\n",
    "\n",
    "print(\"Affichage des centres: \",les_centres)\n",
    "print(\"Affichage des affectations: \",l_affectation)"
   ]
  },
  {
   "cell_type": "code",
   "execution_count": 127,
   "metadata": {},
   "outputs": [
    {
     "name": "stdout",
     "output_type": "stream",
     "text": [
      "\n",
      "\n",
      "Classe  0  : \n",
      "Tom Hanks  , \n",
      "Wallace Shawn  , \n",
      "Laurie Metcalf  , \n",
      "Robin Williams  , \n",
      "Kirsten Dunst  , \n",
      "David Alan Grier  , \n",
      "Walter Matthau  , \n",
      "\n",
      "\n",
      "Classe  1  : \n",
      "Tim Allen  , \n",
      "Don Rickles  , \n",
      "Jim Varney  , \n",
      "John Ratzenberger  , \n",
      "Annie Potts  , \n",
      "Sherry Lynn  , \n",
      "Jack Angel  , \n",
      "\n",
      "\n",
      "Classe  2  : \n",
      "John Morris  , \n",
      "Erik von Detten  , \n",
      "Penn Jillette  , \n",
      "Lisa Bradley  , \n",
      "Jeff Pidgeon  , \n",
      "Patrick Pinney  , \n",
      "Andrew Stanton  , \n",
      "\n",
      "\n",
      "Classe  3  : \n",
      "R. Lee Ermey  , \n",
      "Sophia Loren  , \n",
      "Burgess Meredith  , \n",
      "Angela Bassett  , \n",
      "Loretta Devine  , \n",
      "Dennis Haysbert  , \n",
      "Mykelti Williamson  , \n",
      "\n",
      "\n",
      "Classe  4  : \n",
      "Sarah Freeman  , \n",
      "Spencer Aste  , \n",
      "Greg Berg  , \n",
      "Kendall Cunningham  , \n",
      "Gregory Grudt  , \n",
      "Sam Lasseter  , \n",
      "Brittany Levenbrown  , \n",
      "\n",
      "\n",
      "Classe  5  : \n",
      "Cody Dorkin  , \n",
      "Ryan O'Donohue  , \n",
      "Bradley Pierce  , \n",
      "Adam Hann-Byrd  , \n",
      "Peter Bryant  , \n",
      "Vince Deadrick Jr.  , \n",
      "Brian Libby  , \n",
      "\n",
      "\n",
      "Classe  6  : \n",
      "Jonathan Hyde  , \n",
      "Bebe Neuwirth  , \n",
      "James Handy  , \n",
      "Lela Rochon  , \n",
      "Gregory Hines  , \n",
      "Wendell Pierce  , \n",
      "BD Wong  , \n",
      "\n",
      "\n",
      "Classe  7  : \n",
      "Patricia Clarkson  , \n",
      "Wesley Snipes  , \n",
      "Giancarlo Esposito  , \n",
      "Al Pacino  , \n",
      "Robert De Niro  , \n",
      "Val Kilmer  , \n",
      "Jon Voight  , \n",
      "\n",
      "\n",
      "Classe  8  : \n",
      "Gillian Barber  , \n",
      "Annabel Kershaw  , \n",
      "Whitney Houston  , \n",
      "Lamont Johnson  , \n",
      "Jerry Trimble  , \n",
      "Begonya Plaza  , \n",
      "Hazelle Goodman  , \n",
      "\n",
      "\n",
      "Classe  9  : \n",
      "Malcolm Stewart  , \n",
      "Tom Woodruff Jr.  , \n",
      "Michael Beach  , \n",
      "Brandon Hammond  , \n",
      "Wes Studi  , \n",
      "Henry Rollins  , \n",
      "Kevin Gage  , \n"
     ]
    }
   ],
   "source": [
    "for c in (l_affectation.keys()):\n",
    "    print(\"\\n\\nClasse \",c,\" : \")\n",
    "    limit = min(7, len(l_affectation[c]))\n",
    "    for j in range(limit):\n",
    "        print( actors_inv[l_affectation[c][j]],\" , \")"
   ]
  },
  {
   "cell_type": "markdown",
   "metadata": {},
   "source": [
    "#### Expérimentation :"
   ]
  },
  {
   "cell_type": "markdown",
   "metadata": {},
   "source": [
    "Les résultats qu'on vient de voir sont obtenus en fixant k à 10. Essayant maintenant avec plusieurs valeurs de k et detectant la meilleur en fonction de l'inertie globale. "
   ]
  },
  {
   "cell_type": "code",
   "execution_count": 142,
   "metadata": {},
   "outputs": [
    {
     "data": {
      "text/plain": [
       "[30829.09943977589,\n",
       " 26776.51541492568,\n",
       " 24615.744277814643,\n",
       " 22893.236446512296,\n",
       " 19874.241955288624,\n",
       " 20302.917852774986,\n",
       " 20314.14337868178]"
      ]
     },
     "execution_count": 142,
     "metadata": {},
     "output_type": "execute_result"
    }
   ],
   "source": [
    "l=[]\n",
    "for k in range(3,10):\n",
    "    c,aff = kmoyennes(k, data_cat.head(500), 0.6, 10)\n",
    "    l.append(inertie_globale(data_cat.head(500),aff))\n",
    "l\n",
    "    "
   ]
  },
  {
   "cell_type": "code",
   "execution_count": 143,
   "metadata": {},
   "outputs": [
    {
     "data": {
      "image/png": "[encoded data removed]",
      "text/plain": [
       "<Figure size 432x288 with 1 Axes>"
      ]
     },
     "metadata": {},
     "output_type": "display_data"
    }
   ],
   "source": [
    "plt.title(\"Variation de l'inertie globale du classifiuer Kmoyennes \")\n",
    "plt.xlabel('inertie globale')\n",
    "plt.ylabel('Nombre de clusters')\n",
    "plt.plot([3,4,5,6,7,8,9],l)\n",
    "plt.show()"
   ]
  },
  {
   "cell_type": "code",
   "execution_count": null,
   "metadata": {},
   "outputs": [],
   "source": [
    "f=[]\n",
    "for k in range(3,20):\n",
    "    c,aff = kmoyennes(k, data_cat.head(500), 0.6, 10)\n",
    "    f.append(inertie_globale(data_cat.head(500),aff))"
   ]
  }
 ],
 "metadata": {
  "kernelspec": {
   "display_name": "Python 3",
   "language": "python",
   "name": "python3"
  },
  "language_info": {
   "codemirror_mode": {
    "name": "ipython",
    "version": 3
   },
   "file_extension": ".py",
   "mimetype": "text/x-python",
   "name": "python",
   "nbconvert_exporter": "python",
   "pygments_lexer": "ipython3",
   "version": "3.7.3"
  }
 },
 "nbformat": 4,
 "nbformat_minor": 2
}
